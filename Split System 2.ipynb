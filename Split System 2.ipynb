{
 "cells": [
  {
   "cell_type": "code",
   "execution_count": 123,
   "id": "0308446a",
   "metadata": {},
   "outputs": [],
   "source": [
    "import pandas as pd"
   ]
  },
  {
   "cell_type": "code",
   "execution_count": 128,
   "id": "252be1e6",
   "metadata": {},
   "outputs": [],
   "source": [
    "from scipy.cluster.hierarchy import linkage, fcluster\n",
    "import pandas as pd\n",
    "import numpy as np\n",
    "import matplotlib.pyplot as plt\n",
    "from scipy import stats\n",
    "import pandas as pd\n",
    "import numpy as np\n",
    "from scipy.stats import mannwhitneyu, ttest_ind, levene\n",
    "from itertools import combinations\n",
    "import matplotlib\n",
    "import seaborn as sns\n",
    "from sklearn.cluster import KMeans"
   ]
  },
  {
   "cell_type": "markdown",
   "id": "0bf01c7c",
   "metadata": {},
   "source": [
    "# Условие"
   ]
  },
  {
   "cell_type": "markdown",
   "id": "2a6f402e",
   "metadata": {},
   "source": [
    "**В этом домашнем задании вы должны написать свою сплит систему для проведения A/B тестов**\n",
    "\n",
    "В предоставленных данных есть 50000 юзеров, для каждого есть запись какой-то метрики за 2 года (730 дней).\n",
    "\n",
    "Данные: https://disk.yandex.ru/d/2mH8fuKCKLeozg\n",
    "\n",
    "\n",
    "### Ваша задача:\n",
    "\n",
    "1) Написать алгоритм, которые разбивает данные на 3 группы размера около 5000, которые будут считаться \"похожими\".\n",
    "\n",
    "- Для этого вам самостоятельно нужно решить, какие критерии схожести тут применимы и построить необходимые тесты для выбора этих групп.\n",
    "\n",
    "- Данные 3 группы должны считаться похожими на основе ваших метрик.\n",
    "\n",
    "- Разбиение затем будет протестировано на следующих 2х годах нами.\n",
    "\n",
    "2) Визуализировать распределения выбранных вами метрик для найденных групп и сравнить с аналогичными разультатами для случайных групп"
   ]
  },
  {
   "cell_type": "markdown",
   "id": "b289ee8c",
   "metadata": {},
   "source": [
    "### Нужно реализовать следующие функции (вы можете добавлять какие-то побочные, если считаете нужным):\n",
    "\n",
    "`generate_groups`  - функция, которая по данным и числу групп делает случайное разбиение данных на примерно одинаковые части по количеству групп\n",
    "\n",
    "`conduct_test_on_pair` - функция проводит статистические тесты между двумя данными группами и возвращает нужные статистики и результаты\n",
    "\n",
    "`conduct_tests` -- по списку групп и количеству необходимых похожих групп (зафиксировано в условии задачи как 3) перебирает возможные тройки групп пока не найдет похожие, критерий остановки за вами\n",
    "\n",
    "`find_groups` -- берет данные и число групп, на которое вы их разбиваете и ищет 3 группы удовлетворяющие вашим критериям схожести.\n",
    "\n",
    "Рекомендуем начинать с того, чтобы искать разбиение на 2 группы, а не 3, чтобы проверить, что сплит система работает адекватно. Задача с двумя группами зачастую сильно проще, чем с тремя."
   ]
  },
  {
   "cell_type": "markdown",
   "id": "f3a96384",
   "metadata": {},
   "source": [
    "Группы должны состоять из уникальных клиентов без дубликатов, один клиент может быть только в одной группе. То есть должны выбирать группы из датасета без повторений и у групп не должно быть пересечений."
   ]
  },
  {
   "cell_type": "markdown",
   "id": "1136d992",
   "metadata": {},
   "source": [
    " Про то, по каким параметрам оценивать группы: в этом задании вам требуется найти группы, в которых распределения **средних значений и дисперсии данной последовательности** по пользователям похожи. То есть вам нужно вычислить среднее значение и дисперсию данной последовательности для каждого пользователя, а затем проверить, что распределения результатов между группами схожи по вашим тестам.\n",
    "\n",
    "\n",
    "**Замечание**: Для разбиения на группы и сравнения похожести можете брать любую метрику и считать любой критерии, но мы будем сравнивать именно метрику «среднее» и дисперсию на следующих по времени данных"
   ]
  },
  {
   "cell_type": "markdown",
   "id": "c07b871a",
   "metadata": {},
   "source": [
    "#### Про систему оценивания: При оценивании мы будем проверять полученные вами группы как на этих данных, так и на следующих двух годах. При проверке будем учитывать и качество полученных групп при помощи метрик."
   ]
  },
  {
   "cell_type": "code",
   "execution_count": 129,
   "id": "63c1d214",
   "metadata": {},
   "outputs": [
    {
     "data": {
      "text/html": [
       "<div>\n",
       "<style scoped>\n",
       "    .dataframe tbody tr th:only-of-type {\n",
       "        vertical-align: middle;\n",
       "    }\n",
       "\n",
       "    .dataframe tbody tr th {\n",
       "        vertical-align: top;\n",
       "    }\n",
       "\n",
       "    .dataframe thead th {\n",
       "        text-align: right;\n",
       "    }\n",
       "</style>\n",
       "<table border=\"1\" class=\"dataframe\">\n",
       "  <thead>\n",
       "    <tr style=\"text-align: right;\">\n",
       "      <th></th>\n",
       "      <th>2019-01-01</th>\n",
       "      <th>2019-01-02</th>\n",
       "      <th>2019-01-03</th>\n",
       "      <th>2019-01-04</th>\n",
       "      <th>2019-01-05</th>\n",
       "      <th>2019-01-06</th>\n",
       "      <th>2019-01-07</th>\n",
       "      <th>2019-01-08</th>\n",
       "      <th>2019-01-09</th>\n",
       "      <th>2019-01-10</th>\n",
       "      <th>...</th>\n",
       "      <th>2020-12-21</th>\n",
       "      <th>2020-12-22</th>\n",
       "      <th>2020-12-23</th>\n",
       "      <th>2020-12-24</th>\n",
       "      <th>2020-12-25</th>\n",
       "      <th>2020-12-26</th>\n",
       "      <th>2020-12-27</th>\n",
       "      <th>2020-12-28</th>\n",
       "      <th>2020-12-29</th>\n",
       "      <th>2020-12-30</th>\n",
       "    </tr>\n",
       "  </thead>\n",
       "  <tbody>\n",
       "    <tr>\n",
       "      <th>0</th>\n",
       "      <td>-3.533155</td>\n",
       "      <td>-4.475755</td>\n",
       "      <td>-4.748074</td>\n",
       "      <td>-5.569953</td>\n",
       "      <td>-8.017896</td>\n",
       "      <td>-12.396771</td>\n",
       "      <td>-11.853961</td>\n",
       "      <td>-12.046498</td>\n",
       "      <td>-10.297042</td>\n",
       "      <td>-10.075553</td>\n",
       "      <td>...</td>\n",
       "      <td>-168.163849</td>\n",
       "      <td>-168.728405</td>\n",
       "      <td>-168.971555</td>\n",
       "      <td>-168.824042</td>\n",
       "      <td>-167.700081</td>\n",
       "      <td>-167.634364</td>\n",
       "      <td>-167.856116</td>\n",
       "      <td>-168.743465</td>\n",
       "      <td>-168.231590</td>\n",
       "      <td>-167.913551</td>\n",
       "    </tr>\n",
       "    <tr>\n",
       "      <th>1</th>\n",
       "      <td>-3.824475</td>\n",
       "      <td>-1.530769</td>\n",
       "      <td>0.038338</td>\n",
       "      <td>-1.475237</td>\n",
       "      <td>-1.602029</td>\n",
       "      <td>-0.992509</td>\n",
       "      <td>0.302906</td>\n",
       "      <td>1.789140</td>\n",
       "      <td>4.177589</td>\n",
       "      <td>9.273372</td>\n",
       "      <td>...</td>\n",
       "      <td>75.919063</td>\n",
       "      <td>72.909418</td>\n",
       "      <td>75.289867</td>\n",
       "      <td>77.770907</td>\n",
       "      <td>74.099941</td>\n",
       "      <td>72.411474</td>\n",
       "      <td>67.472791</td>\n",
       "      <td>67.084800</td>\n",
       "      <td>66.805609</td>\n",
       "      <td>72.078232</td>\n",
       "    </tr>\n",
       "    <tr>\n",
       "      <th>2</th>\n",
       "      <td>-1.616434</td>\n",
       "      <td>-4.658834</td>\n",
       "      <td>-6.746498</td>\n",
       "      <td>-9.979424</td>\n",
       "      <td>-11.683396</td>\n",
       "      <td>-9.507703</td>\n",
       "      <td>-7.614438</td>\n",
       "      <td>-9.735666</td>\n",
       "      <td>-10.754863</td>\n",
       "      <td>-11.058539</td>\n",
       "      <td>...</td>\n",
       "      <td>47.759469</td>\n",
       "      <td>46.596598</td>\n",
       "      <td>50.135737</td>\n",
       "      <td>48.424880</td>\n",
       "      <td>47.740658</td>\n",
       "      <td>46.676116</td>\n",
       "      <td>45.611939</td>\n",
       "      <td>43.331310</td>\n",
       "      <td>45.655325</td>\n",
       "      <td>39.770838</td>\n",
       "    </tr>\n",
       "    <tr>\n",
       "      <th>3</th>\n",
       "      <td>-0.157282</td>\n",
       "      <td>1.827617</td>\n",
       "      <td>-2.585284</td>\n",
       "      <td>-4.397189</td>\n",
       "      <td>0.113494</td>\n",
       "      <td>7.614615</td>\n",
       "      <td>5.456654</td>\n",
       "      <td>5.928451</td>\n",
       "      <td>6.953534</td>\n",
       "      <td>4.514409</td>\n",
       "      <td>...</td>\n",
       "      <td>318.364962</td>\n",
       "      <td>319.281629</td>\n",
       "      <td>322.614999</td>\n",
       "      <td>325.200268</td>\n",
       "      <td>324.745069</td>\n",
       "      <td>326.519830</td>\n",
       "      <td>326.467326</td>\n",
       "      <td>321.806523</td>\n",
       "      <td>321.286907</td>\n",
       "      <td>323.570847</td>\n",
       "    </tr>\n",
       "    <tr>\n",
       "      <th>4</th>\n",
       "      <td>2.056969</td>\n",
       "      <td>10.187929</td>\n",
       "      <td>8.559520</td>\n",
       "      <td>8.579555</td>\n",
       "      <td>9.464262</td>\n",
       "      <td>9.038088</td>\n",
       "      <td>10.875990</td>\n",
       "      <td>9.883777</td>\n",
       "      <td>8.026472</td>\n",
       "      <td>13.040411</td>\n",
       "      <td>...</td>\n",
       "      <td>-38.079584</td>\n",
       "      <td>-38.515039</td>\n",
       "      <td>-38.031876</td>\n",
       "      <td>-36.610698</td>\n",
       "      <td>-37.753387</td>\n",
       "      <td>-35.470938</td>\n",
       "      <td>-35.454435</td>\n",
       "      <td>-35.026979</td>\n",
       "      <td>-35.633306</td>\n",
       "      <td>-35.460477</td>\n",
       "    </tr>\n",
       "  </tbody>\n",
       "</table>\n",
       "<p>5 rows × 730 columns</p>\n",
       "</div>"
      ],
      "text/plain": [
       "   2019-01-01  2019-01-02  2019-01-03  2019-01-04  2019-01-05  2019-01-06  \\\n",
       "0   -3.533155   -4.475755   -4.748074   -5.569953   -8.017896  -12.396771   \n",
       "1   -3.824475   -1.530769    0.038338   -1.475237   -1.602029   -0.992509   \n",
       "2   -1.616434   -4.658834   -6.746498   -9.979424  -11.683396   -9.507703   \n",
       "3   -0.157282    1.827617   -2.585284   -4.397189    0.113494    7.614615   \n",
       "4    2.056969   10.187929    8.559520    8.579555    9.464262    9.038088   \n",
       "\n",
       "   2019-01-07  2019-01-08  2019-01-09  2019-01-10  ...  2020-12-21  \\\n",
       "0  -11.853961  -12.046498  -10.297042  -10.075553  ... -168.163849   \n",
       "1    0.302906    1.789140    4.177589    9.273372  ...   75.919063   \n",
       "2   -7.614438   -9.735666  -10.754863  -11.058539  ...   47.759469   \n",
       "3    5.456654    5.928451    6.953534    4.514409  ...  318.364962   \n",
       "4   10.875990    9.883777    8.026472   13.040411  ...  -38.079584   \n",
       "\n",
       "   2020-12-22  2020-12-23  2020-12-24  2020-12-25  2020-12-26  2020-12-27  \\\n",
       "0 -168.728405 -168.971555 -168.824042 -167.700081 -167.634364 -167.856116   \n",
       "1   72.909418   75.289867   77.770907   74.099941   72.411474   67.472791   \n",
       "2   46.596598   50.135737   48.424880   47.740658   46.676116   45.611939   \n",
       "3  319.281629  322.614999  325.200268  324.745069  326.519830  326.467326   \n",
       "4  -38.515039  -38.031876  -36.610698  -37.753387  -35.470938  -35.454435   \n",
       "\n",
       "   2020-12-28  2020-12-29  2020-12-30  \n",
       "0 -168.743465 -168.231590 -167.913551  \n",
       "1   67.084800   66.805609   72.078232  \n",
       "2   43.331310   45.655325   39.770838  \n",
       "3  321.806523  321.286907  323.570847  \n",
       "4  -35.026979  -35.633306  -35.460477  \n",
       "\n",
       "[5 rows x 730 columns]"
      ]
     },
     "execution_count": 129,
     "metadata": {},
     "output_type": "execute_result"
    }
   ],
   "source": [
    "df = pd.read_csv('train_data.csv', delimiter=',')\n",
    "df.head() # Посомтрим, как выглядят наши данные"
   ]
  },
  {
   "cell_type": "markdown",
   "id": "b79446e5",
   "metadata": {},
   "source": [
    "## Напишите следующие функции"
   ]
  },
  {
   "cell_type": "code",
   "execution_count": 131,
   "id": "f2c22ee2",
   "metadata": {},
   "outputs": [
    {
     "ename": "ValueError",
     "evalue": "Cannot take a larger sample than population when 'replace=False'",
     "output_type": "error",
     "traceback": [
      "\u001b[1;31m---------------------------------------------------------------------------\u001b[0m",
      "\u001b[1;31mValueError\u001b[0m                                Traceback (most recent call last)",
      "Input \u001b[1;32mIn [131]\u001b[0m, in \u001b[0;36m<cell line: 23>\u001b[1;34m()\u001b[0m\n\u001b[0;32m     23\u001b[0m \u001b[38;5;28;01mfor\u001b[39;00m i \u001b[38;5;129;01min\u001b[39;00m \u001b[38;5;28mrange\u001b[39m(group_num):\n\u001b[0;32m     24\u001b[0m     cluster_indices \u001b[38;5;241m=\u001b[39m np\u001b[38;5;241m.\u001b[39mwhere(cluster_labels \u001b[38;5;241m==\u001b[39m i)[\u001b[38;5;241m0\u001b[39m] \u001b[38;5;66;03m# Пользователи, принадлежащие кластеру i\u001b[39;00m\n\u001b[1;32m---> 25\u001b[0m     selected_indices \u001b[38;5;241m=\u001b[39m \u001b[43mnp\u001b[49m\u001b[38;5;241;43m.\u001b[39;49m\u001b[43mrandom\u001b[49m\u001b[38;5;241;43m.\u001b[39;49m\u001b[43mchoice\u001b[49m\u001b[43m(\u001b[49m\u001b[43mcluster_indices\u001b[49m\u001b[43m,\u001b[49m\u001b[43m \u001b[49m\u001b[43mgroup_size\u001b[49m\u001b[43m,\u001b[49m\u001b[43m \u001b[49m\u001b[43mreplace\u001b[49m\u001b[38;5;241;43m=\u001b[39;49m\u001b[38;5;28;43;01mFalse\u001b[39;49;00m\u001b[43m)\u001b[49m \u001b[38;5;66;03m# Выборка размера group_size из кластера i\u001b[39;00m\n\u001b[0;32m     26\u001b[0m     group_data \u001b[38;5;241m=\u001b[39m df\u001b[38;5;241m.\u001b[39miloc[selected_indices]\n\u001b[0;32m     27\u001b[0m     groups\u001b[38;5;241m.\u001b[39mappend(group_data)\n",
      "File \u001b[1;32mmtrand.pyx:965\u001b[0m, in \u001b[0;36mnumpy.random.mtrand.RandomState.choice\u001b[1;34m()\u001b[0m\n",
      "\u001b[1;31mValueError\u001b[0m: Cannot take a larger sample than population when 'replace=False'"
     ]
    }
   ],
   "source": [
    "# Сначала мы сделаем кластеризацию, чтобы выявить похожие группы\n",
    "# M(x) и D(x) для каждого пользователя\n",
    "user_means = df.mean(axis=1)\n",
    "user_variances = df.var(axis=1)\n",
    "group_num=10\n",
    "\n",
    "# Массив признаков для каждого пользователя, состоящий из ключевых метрик: матожидания и дисперсии по времени\n",
    "features = np.column_stack((user_means, user_variances))\n",
    "\n",
    "# Кластеризация KMeans\n",
    "kmeans = KMeans(n_clusters=group_num, random_state=42)\n",
    "kmeans.fit(features)\n",
    "\n",
    "# Метки кластеров для каждого пользователя\n",
    "cluster_labels = kmeans.labels_\n",
    "\n",
    "# Число пользователей в каждой группе\n",
    "group_size = len(df) // group_num\n",
    "\n",
    "groups = []\n",
    "\n",
    "# Делим пользователей на группы\n",
    "for i in range(group_num):\n",
    "    cluster_indices = np.where(cluster_labels == i)[0] # Пользователи, принадлежащие кластеру i\n",
    "    selected_indices = np.random.choice(cluster_indices, group_size, replace=False) # Выборка размера group_size из кластера i\n",
    "    group_data = df.iloc[selected_indices]\n",
    "    groups.append(group_data)\n",
    "\n",
    "# Получим кластеризированные группы, далее увидим, какие кластеры выделились и осознаем, что наибольший кластер - это под индексом 2, остальные кластеры содержат мало наблюдений - значит они сильно отличаются от других кластеров, эти наблюдения стоит убрать из нашей выборки\n",
    "\n",
    "def conduct_tests_on_pair(df_1, df_2):\n",
    "    \"\"\"\n",
    "    Conducts statistical test or tests on two given groups to decide if they are similar\n",
    "\n",
    "    df_i : Dataframe of users of a single group\n",
    "\n",
    "    returns p-value or anything you need further\n",
    "    \"\"\"\n",
    "    means_df_1 = df_1.mean(axis=1)  # Сначала посчитаем среднее значение по времени для каждого пользователя в каждой группе, потом сравним средние значения пользователей двух групп между собой на равенство мат ожидания двух групп\n",
    "    means_df_2 = df_2.mean(axis=1)\n",
    "\n",
    "    var_df_1 = df_1.var(axis=1) # То же самое с дисперсиями\n",
    "    var_df_2 = df_2.var(axis=1)\n",
    "\n",
    "    stat_tt, p_tt = stats.ttest_ind(means_df_1, means_df_2)\n",
    "    stat_mw, p_mw = mannwhitneyu(means_df_1, means_df_2)\n",
    "    stat_lev, p_lev = levene(var_df_1, var_df_2) # На дисперсию\n",
    "\n",
    "    # print(f'Двусторонний t-тест, тестовая статистика: {stat_tt}, p-value: {p_tt}')\n",
    "    # print(f'Тест Mann-Witney, тестовая статистика: {stat_mw}, p-value: {p_mw}')\n",
    "    # print(f'Тест Левене, тестовая статистика: {stat_lev}, p-value: {p_lev}')\n",
    "    return stat_tt, p_tt, stat_mw, p_mw, stat_lev, p_lev\n",
    "\n",
    "\n",
    "# print(conduct_tests_on_pair(generated_groups[0], generated_groups[1]))\n",
    "\n",
    "def conduct_tests(dfs, group_num):\n",
    "    \"\"\"\n",
    "    Goal is to find out if there is group_num groups in the dfs list which are similar enough according to your criterion.\n",
    "    For every (or maybe not every) selection of group_num groups from the dfs list and conducts pairwise tests on selected subset using conduct_tests_on_pair.\n",
    "\n",
    "    dfs : list of dataframes of groups\n",
    "\n",
    "    returns list of selected groups or None if there are no similar groups\n",
    "    \"\"\"\n",
    "    group_combinations = combinations(dfs, group_num) # комбинации групп для проверки\n",
    "    for combination in group_combinations:\n",
    "        # Стат тесты для проверки похожести: левене для проверки схожести дисперсий\n",
    "        p_values_tt = []\n",
    "        p_values_mw = []\n",
    "        p_values_lev = []\n",
    "        for df1, df2 in combinations(combination, 2):\n",
    "            tt_stat, p_tt, mw_stat, p_mw, lev_stat, p_lev = conduct_tests_on_pair(df1, df2)\n",
    "            p_values_tt.append(p_tt)\n",
    "            p_values_mw.append(p_mw)\n",
    "            p_values_lev.append(p_lev)\n",
    "\n",
    "        # Будем требовать, чтобы все тесты не отвергались, уровень значимости возьмем побольше, чтобы группы были более похожими\n",
    "        if all(p > 0.2 for p in p_values_tt) and all(p > 0.2 for p in p_values_mw) and all(p > 0.2 for p in p_values_lev):\n",
    "            return list(combination)\n",
    "    return None\n",
    "\n",
    "def find_groups(df, group_num):\n",
    "    \"\"\"\n",
    "    Splits df into groups and conducts tests on subsets of the groups until necessary groups are found\n",
    "    \"\"\"\n",
    "    for i in range(100000):\n",
    "        dfs = generate_groups(df, group_num)\n",
    "        result = conduct_tests(dfs, 3)\n",
    "\n",
    "        if result is not None:\n",
    "            return result"
   ]
  },
  {
   "cell_type": "code",
   "execution_count": 115,
   "id": "da17471c",
   "metadata": {},
   "outputs": [],
   "source": [
    "group1 = generated_groups[:2] + generated_groups[3:]  # Оставили только группы с адекватными значениями средних и дисперсий, которые похожи между собой, согласно кластеризации\n",
    "all_indices = [index for group in group1 for index in group.index]  # индексы наблюдений, которые надо удалить\n",
    "df1 = df.copy().drop(all_indices)  # удалим этих юзеров"
   ]
  },
  {
   "cell_type": "code",
   "execution_count": 116,
   "id": "54ff8adb",
   "metadata": {},
   "outputs": [],
   "source": [
    "high_var_indices = df1[df1.var(axis=1) > 9**6].index  # Удалим данные с большой дисперсией, очень шумная дисперсия ломает тесты, поэтому удалим небольшое число шумных наблюдений\n",
    "high_var_indices.shape\n",
    "df2 = df1.copy().drop(high_var_indices)"
   ]
  },
  {
   "cell_type": "code",
   "execution_count": 99,
   "id": "abadb8dc",
   "metadata": {},
   "outputs": [],
   "source": [
    "def generate_groups(df, group_num):\n",
    "    \"\"\"\n",
    "    Splits users into group_num groups of similar size\n",
    "\n",
    "    df : Dataframe with all user data\n",
    "    group_num : number of groups to split into\n",
    "\n",
    "    returns a list of dataframes of generated groups\n",
    "    \"\"\"\n",
    "    # permutations обеспечит случайность выбора наших групп, поэтому основные описательные статистики между группами будут равны при большом числе наблюдений, и группы будут похожими\n",
    "    n_users = len(df)\n",
    "    indexes_to_choose = np.random.permutation(n_users) # Создадим последовательность перестановок длины n\n",
    "    group_indexes = np.array_split(indexes_to_choose, group_num) # Поделим данные на равные группы, получим списки индексов для каждой группы (список списков)\n",
    "    groups = []\n",
    "    for indexes in group_indexes:\n",
    "        group = df.iloc[indexes]\n",
    "        groups.append(group)\n",
    "    return groups\n",
    "\n",
    "def conduct_tests_on_pair(df_1, df_2):\n",
    "    \"\"\"\n",
    "    Conducts statistical test or tests on two given groups to decide if they are similar\n",
    "\n",
    "    df_i : Dataframe of users of a single group\n",
    "\n",
    "    returns p-value or anything you need further\n",
    "    \"\"\"\n",
    "    means_df_1 = df_1.mean(axis=1)  # Сначала посчитаем среднее значение по времени для каждого пользователя в каждой группе, потом сравним средние значения пользователей двух групп между собой на равенство мат ожидания двух групп\n",
    "    means_df_2 = df_2.mean(axis=1)\n",
    "\n",
    "    var_df_1 = df_1.var(axis=1) # То же самое с дисперсиями\n",
    "    var_df_2 = df_2.var(axis=1)\n",
    "\n",
    "    stat_tt, p_tt = stats.ttest_ind(means_df_1, means_df_2)\n",
    "    stat_mw, p_mw = mannwhitneyu(means_df_1, means_df_2)\n",
    "    stat_lev, p_lev = levene(var_df_1, var_df_2)\n",
    "\n",
    "    # print(f'Двусторонний t-тест, тестовая статистика: {stat_tt}, p-value: {p_tt}')\n",
    "    # print(f'Тест Mann-Witney, тестовая статистика: {stat_mw}, p-value: {p_mw}')\n",
    "    # print(f'Тест Левене, тестовая статистика: {stat_lev}, p-value: {p_lev}')\n",
    "    return stat_tt, p_tt, stat_mw, p_mw, stat_lev, p_lev\n",
    "\n",
    "\n",
    "# print(conduct_tests_on_pair(generated_groups[0], generated_groups[1]))\n",
    "\n",
    "def conduct_tests(dfs, group_num):\n",
    "    \"\"\"\n",
    "    Goal is to find out if there is group_num groups in the dfs list which are similar enough according to your criterion.\n",
    "    For every (or maybe not every) selection of group_num groups from the dfs list and conducts pairwise tests on selected subset using conduct_tests_on_pair.\n",
    "\n",
    "    dfs : list of dataframes of groups\n",
    "\n",
    "    returns list of selected groups or None if there are no similar groups\n",
    "    \"\"\"\n",
    "    group_combinations = combinations(dfs, group_num) # комбинации групп для проверки\n",
    "    for combination in group_combinations:\n",
    "        # Стат тесты для проверки похожести: левене для проверки схожести дисперсий\n",
    "        p_values_tt = []\n",
    "        p_values_mw = []\n",
    "        p_values_lev = []\n",
    "        for df1, df2 in combinations(combination, 2):\n",
    "            tt_stat, p_tt, mw_stat, p_mw, lev_stat, p_lev = conduct_tests_on_pair(df1, df2)\n",
    "            p_values_tt.append(p_tt)\n",
    "            p_values_mw.append(p_mw)\n",
    "            p_values_lev.append(p_lev)\n",
    "\n",
    "        # Будем требовать, чтобы все тесты не отвергались, уровень значимости возьмем побольше, чтобы группы были более похожими\n",
    "        if all(p > 0.2 for p in p_values_tt) and all(p > 0.2 for p in p_values_mw) and all(p > 0.2 for p in p_values_lev):\n",
    "            return list(combination)\n",
    "    return None\n",
    "\n",
    "def find_groups(df, group_num):\n",
    "    \"\"\"\n",
    "    Splits df into groups and conducts tests on subsets of the groups until necessary groups are found\n",
    "    \"\"\"\n",
    "    for i in range(100000):\n",
    "        dfs = generate_groups(df, group_num)\n",
    "        result = conduct_tests(dfs, 3)\n",
    "\n",
    "        if result is not None:\n",
    "            return result"
   ]
  },
  {
   "cell_type": "code",
   "execution_count": 53,
   "id": "e992a5ea",
   "metadata": {},
   "outputs": [],
   "source": [
    "# groups = generate_groups(df1, 10)"
   ]
  },
  {
   "cell_type": "code",
   "execution_count": 117,
   "id": "e8035f63",
   "metadata": {},
   "outputs": [
    {
     "data": {
      "image/png": "[encoded data removed]",
      "text/plain": [
       "<Figure size 432x288 with 1 Axes>"
      ]
     },
     "metadata": {},
     "output_type": "display_data"
    }
   ],
   "source": [
    "groups = find_groups(df2, 10)\n",
    "x1 = np.linspace(-1, 1, 100)\n",
    "y1 = groups[0].mean(axis=1)\n",
    "y2 = groups[1].mean(axis=1)\n",
    "y3 = groups[2].mean(axis=1)\n",
    "fig, ax = plt.subplots(1, 1)\n",
    "ax.hist(y1, density=True, histtype='bar', bins=300, alpha=0.3, color='mediumorchid')\n",
    "ax.hist(y2, density=True, histtype='bar', bins=300, alpha=0.7, color='cyan')\n",
    "ax.hist(y3, density=True, histtype='bar', bins=300, alpha=0.9, color='red')\n",
    "ax.axvline(np.mean(y1), ymax=1, color='black', alpha=0.8)\n",
    "ax.axvline(np.mean(y2), ymax=1, color='green', alpha=0.8)\n",
    "ax.axvline(np.mean(y3), ymax=1, color='yellow', alpha=0.8)\n",
    "# rect = matplotlib.patches.Rectangle((np.mean(y1)-3*np.std(y1),0), 6*np.std(y1), 0.3, color='black', alpha=0.2)\n",
    "# ax.add_patch(rect)\n",
    "plt.xlim(-5000, 3000)\n",
    "plt.show()"
   ]
  },
  {
   "cell_type": "code",
   "execution_count": 118,
   "id": "4fed1ea4",
   "metadata": {},
   "outputs": [
    {
     "data": {
      "image/png": "[encoded data removed]",
      "text/plain": [
       "<Figure size 432x288 with 1 Axes>"
      ]
     },
     "metadata": {},
     "output_type": "display_data"
    }
   ],
   "source": [
    "fig, ax = plt.subplots(1, 1)\n",
    "rect1 = matplotlib.patches.Rectangle((np.mean(y1)-np.std(y1),0), 2*np.std(y1), 0.7, color='black', alpha=0.25)\n",
    "rect2 = matplotlib.patches.Rectangle((np.mean(y2)-np.std(y2),0), 2*np.std(y2), 0.7, color='red', alpha=0.3)\n",
    "rect3 = matplotlib.patches.Rectangle((np.mean(y3)-np.std(y3),0), 2*np.std(y3), 0.7, color='cyan', alpha=0.35)\n",
    "ax.add_patch(rect1)\n",
    "ax.add_patch(rect2)\n",
    "ax.add_patch(rect3)\n",
    "plt.xlim(-20000, 20000)\n",
    "plt.show()"
   ]
  },
  {
   "cell_type": "code",
   "execution_count": 121,
   "id": "d57d673f",
   "metadata": {},
   "outputs": [
    {
     "data": {
      "application/vnd.jupyter.widget-view+json": {
       "model_id": "0b0b83dcb2fa46408e15952936fc61f6",
       "version_major": 2,
       "version_minor": 0
      },
      "text/plain": [
       "  0%|          | 0/10000 [00:00<?, ?it/s]"
      ]
     },
     "metadata": {},
     "output_type": "display_data"
    },
    {
     "data": {
      "image/png": "[encoded data removed]",
      "text/plain": [
       "<Figure size 432x288 with 1 Axes>"
      ]
     },
     "metadata": {},
     "output_type": "display_data"
    },
    {
     "data": {
      "text/plain": [
       "0.045"
      ]
     },
     "execution_count": 121,
     "metadata": {},
     "output_type": "execute_result"
    }
   ],
   "source": [
    "simulations = 10000\n",
    "n_s = 100\n",
    "res = []\n",
    "from tqdm.auto import tqdm\n",
    "\n",
    "# Запуск симуляций A/A теста\n",
    "for i in tqdm(range(simulations)):\n",
    "  s1 = y1.sample(n_s, replace = False).values\n",
    "  s2 = y3.sample(n_s, replace = False).values\n",
    "  res.append(stats.ttest_ind(s1, s2, equal_var = True)[1]) # сохраняем pvalue\n",
    "\n",
    "plt.hist(res, bins = 50)\n",
    "plt.style.use('ggplot')\n",
    "plt.xlabel('pvalues')\n",
    "plt.ylabel('frequency')\n",
    "plt.title(\"Histogram of ttest A/A simulations \")\n",
    "plt.show()\n",
    "\n",
    "# Проверяем, что количество ложноположительных случаев не превышает альфа\n",
    "sum(np.array(res) < 0.05) / simulations"
   ]
  },
  {
   "cell_type": "code",
   "execution_count": 122,
   "id": "03b0306d",
   "metadata": {},
   "outputs": [
    {
     "name": "stdout",
     "output_type": "stream",
     "text": [
      "Uniform\n"
     ]
    },
    {
     "data": {
      "text/plain": [
       "0.054322475244723556"
      ]
     },
     "execution_count": 122,
     "metadata": {},
     "output_type": "execute_result"
    }
   ],
   "source": [
    "from scipy.stats import kstest, uniform\n",
    "\n",
    "def is_uniform(sample, significance_level):\n",
    "    # Perform the Kolmogorov-Smirnov test\n",
    "    _, p_value = kstest(sample, uniform.cdf)\n",
    "\n",
    "    return p_value\n",
    "\n",
    "significance_level = 0.05\n",
    "# Example usage\n",
    "p_value = is_uniform(res, significance_level)\n",
    "\n",
    "if p_value > significance_level:\n",
    "    print(\"Uniform\")  # Sample distribution is likely uniform\n",
    "else:\n",
    "    print(\"Not Uniform\")  # Sample distribution is not likely uniform\n",
    "\n",
    "p_value"
   ]
  }
 ],
 "metadata": {
  "kernelspec": {
   "display_name": "Python 3 (ipykernel)",
   "language": "python",
   "name": "python3"
  },
  "language_info": {
   "codemirror_mode": {
    "name": "ipython",
    "version": 3
   },
   "file_extension": ".py",
   "mimetype": "text/x-python",
   "name": "python",
   "nbconvert_exporter": "python",
   "pygments_lexer": "ipython3",
   "version": "3.9.12"
  }
 },
 "nbformat": 4,
 "nbformat_minor": 5
}
