{
  "cells": [
    {
      "cell_type": "code",
      "execution_count": 1,
      "id": "de6ffe38-c190-4ebc-85bd-99d59e672a10",
      "metadata": {
        "id": "de6ffe38-c190-4ebc-85bd-99d59e672a10"
      },
      "outputs": [],
      "source": [
        "import pandas as pd\n",
        "import numpy as np\n",
        "import matplotlib.pyplot as plt\n",
        "\n",
        "from scipy import stats"
      ]
    },
    {
      "cell_type": "markdown",
      "id": "3448a602",
      "metadata": {
        "id": "3448a602"
      },
      "source": [
        "# Условие"
      ]
    },
    {
      "cell_type": "markdown",
      "id": "0f7fb6fe-cb90-45e6-b170-5bcf1baa3e09",
      "metadata": {
        "id": "0f7fb6fe-cb90-45e6-b170-5bcf1baa3e09"
      },
      "source": [
        "**В этом домашнем задании вы должны написать свою сплит систему для проведения A/B тестов**\n",
        "\n",
        "В предоставленных данных есть 50000 юзеров, для каждого есть запись какой-то метрики за 2 года (730 дней).\n",
        "\n",
        "Данные: https://disk.yandex.ru/d/2mH8fuKCKLeozg\n",
        "\n",
        "\n",
        "### Ваша задача:\n",
        "\n",
        "1) Написать алгоритм, которые разбивает данные на 3 группы размера около 5000, которые будут считаться \"похожими\".\n",
        "\n",
        "- Для этого вам самостоятельно нужно решить, какие критерии схожести тут применимы и построить необходимые тесты для выбора этих групп.\n",
        "\n",
        "- Данные 3 группы должны считаться похожими на основе ваших метрик.\n",
        "\n",
        "- Разбиение затем будет протестировано на следующих 2х годах нами.\n",
        "\n",
        "2) Визуализировать распределения выбранных вами метрик для найденных групп и сравнить с аналогичными разультатами для случайных групп"
      ]
    },
    {
      "cell_type": "markdown",
      "id": "b7e83afd",
      "metadata": {
        "id": "b7e83afd"
      },
      "source": [
        "### Нужно реализовать следующие функции (вы можете добавлять какие-то побочные, если считаете нужным):\n",
        "\n",
        "`generate_groups`  - функция, которая по данным и числу групп делает случайное разбиение данных на примерно одинаковые части по количеству групп\n",
        "\n",
        "`conduct_test_on_pair` - функция проводит статистические тесты между двумя данными группами и возвращает нужные статистики и результаты\n",
        "\n",
        "`conduct_tests` -- по списку групп и количеству необходимых похожих групп (зафиксировано в условии задачи как 3) перебирает возможные тройки групп пока не найдет похожие, критерий остановки за вами\n",
        "\n",
        "`find_groups` -- берет данные и число групп, на которое вы их разбиваете и ищет 3 группы удовлетворяющие вашим критериям схожести.\n",
        "\n",
        "Рекомендуем начинать с того, чтобы искать разбиение на 2 группы, а не 3, чтобы проверить, что сплит система работает адекватно. Задача с двумя группами зачастую сильно проще, чем с тремя."
      ]
    },
    {
      "cell_type": "markdown",
      "id": "d6e5a5aa-c928-4df4-b5ae-1991c73e2546",
      "metadata": {
        "id": "d6e5a5aa-c928-4df4-b5ae-1991c73e2546"
      },
      "source": [
        "Группы должны состоять из уникальных клиентов без дубликатов, один клиент может быть только в одной группе. То есть должны выбирать группы из датасета без повторений и у групп не должно быть пересечений."
      ]
    },
    {
      "cell_type": "markdown",
      "id": "7faa80d2-68b8-4cb4-b1f2-a9cb63f9a8f0",
      "metadata": {
        "id": "7faa80d2-68b8-4cb4-b1f2-a9cb63f9a8f0"
      },
      "source": [
        " Про то, по каким параметрам оценивать группы: в этом задании вам требуется найти группы, в которых распределения **средних значений и дисперсии данной последовательности** по пользователям похожи. То есть вам нужно вычислить среднее значение и дисперсию данной последовательности для каждого пользователя, а затем проверить, что распределения результатов между группами схожи по вашим тестам.\n",
        "\n",
        "\n",
        "**Замечание**: Для разбиения на группы и сравнения похожести можете брать любую метрику и считать любой критерии, но мы будем сравнивать именно метрику «среднее» и дисперсию на следующих по времени данных"
      ]
    },
    {
      "cell_type": "markdown",
      "id": "a079967d-5c65-44a2-8e93-ed954459e5a7",
      "metadata": {
        "tags": [],
        "id": "a079967d-5c65-44a2-8e93-ed954459e5a7"
      },
      "source": [
        "#### Про систему оценивания: При оценивании мы будем проверять полученные вами группы как на этих данных, так и на следующих двух годах. При проверке будем учитывать и качество полученных групп при помощи метрик."
      ]
    },
    {
      "cell_type": "code",
      "source": [
        "import pandas as pd\n",
        "import numpy as np\n",
        "import gdown\n",
        "from scipy.stats import mannwhitneyu, ttest_ind, levene\n",
        "from itertools import combinations\n",
        "import matplotlib\n",
        "import seaborn as sns\n",
        "\n",
        "# Загрузим файл по ссылке с Google Диска\n",
        "url = 'https://drive.google.com/uc?id=1qiDcTapez7wmLTuweRfX9O9Y4kRYEmfs'\n",
        "data = 'train_data.csv'\n",
        "gdown.download(url, data, quiet=False)\n",
        "\n",
        "df = pd.read_csv(data, delimiter=',')"
      ],
      "metadata": {
        "colab": {
          "base_uri": "https://localhost:8080/"
        },
        "id": "h0cVKnvCC2S3",
        "outputId": "5d7271f4-6830-4846-ef9c-883bee4b582e"
      },
      "id": "h0cVKnvCC2S3",
      "execution_count": 2,
      "outputs": [
        {
          "output_type": "stream",
          "name": "stderr",
          "text": [
            "Downloading...\n",
            "From (original): https://drive.google.com/uc?id=1qiDcTapez7wmLTuweRfX9O9Y4kRYEmfs\n",
            "From (redirected): https://drive.google.com/uc?id=1qiDcTapez7wmLTuweRfX9O9Y4kRYEmfs&confirm=t&uuid=a6b2c09e-395e-4595-b21f-ff6ff1015626\n",
            "To: /content/train_data.csv\n",
            "100%|██████████| 692M/692M [00:06<00:00, 110MB/s]\n"
          ]
        }
      ]
    },
    {
      "cell_type": "code",
      "source": [
        "df.head() # Посомтри, как выглядят наши данные"
      ],
      "metadata": {
        "colab": {
          "base_uri": "https://localhost:8080/",
          "height": 273
        },
        "id": "ZflzGH21FoWQ",
        "outputId": "584377ea-1add-4935-e208-5e79c676e4a7"
      },
      "id": "ZflzGH21FoWQ",
      "execution_count": 3,
      "outputs": [
        {
          "output_type": "execute_result",
          "data": {
            "text/plain": [
              "   2019-01-01  2019-01-02  2019-01-03  2019-01-04  2019-01-05  2019-01-06  \\\n",
              "0   -3.533155   -4.475755   -4.748074   -5.569953   -8.017896  -12.396771   \n",
              "1   -3.824475   -1.530769    0.038338   -1.475237   -1.602029   -0.992509   \n",
              "2   -1.616434   -4.658834   -6.746498   -9.979424  -11.683396   -9.507703   \n",
              "3   -0.157282    1.827617   -2.585284   -4.397189    0.113494    7.614615   \n",
              "4    2.056969   10.187929    8.559520    8.579555    9.464262    9.038088   \n",
              "\n",
              "   2019-01-07  2019-01-08  2019-01-09  2019-01-10  ...  2020-12-21  \\\n",
              "0  -11.853961  -12.046498  -10.297042  -10.075553  ... -168.163849   \n",
              "1    0.302906    1.789140    4.177589    9.273372  ...   75.919063   \n",
              "2   -7.614438   -9.735666  -10.754863  -11.058539  ...   47.759469   \n",
              "3    5.456654    5.928451    6.953534    4.514409  ...  318.364962   \n",
              "4   10.875990    9.883777    8.026472   13.040411  ...  -38.079584   \n",
              "\n",
              "   2020-12-22  2020-12-23  2020-12-24  2020-12-25  2020-12-26  2020-12-27  \\\n",
              "0 -168.728405 -168.971555 -168.824042 -167.700081 -167.634364 -167.856116   \n",
              "1   72.909418   75.289867   77.770907   74.099941   72.411474   67.472791   \n",
              "2   46.596598   50.135737   48.424880   47.740658   46.676116   45.611939   \n",
              "3  319.281629  322.614999  325.200268  324.745069  326.519830  326.467326   \n",
              "4  -38.515039  -38.031876  -36.610698  -37.753387  -35.470938  -35.454435   \n",
              "\n",
              "   2020-12-28  2020-12-29  2020-12-30  \n",
              "0 -168.743465 -168.231590 -167.913551  \n",
              "1   67.084800   66.805609   72.078232  \n",
              "2   43.331310   45.655325   39.770838  \n",
              "3  321.806523  321.286907  323.570847  \n",
              "4  -35.026979  -35.633306  -35.460477  \n",
              "\n",
              "[5 rows x 730 columns]"
            ],
            "text/html": [
              "\n",
              "  <div id=\"df-429f5a07-82b7-46bb-8a64-bd780c4f8e1d\" class=\"colab-df-container\">\n",
              "    <div>\n",
              "<style scoped>\n",
              "    .dataframe tbody tr th:only-of-type {\n",
              "        vertical-align: middle;\n",
              "    }\n",
              "\n",
              "    .dataframe tbody tr th {\n",
              "        vertical-align: top;\n",
              "    }\n",
              "\n",
              "    .dataframe thead th {\n",
              "        text-align: right;\n",
              "    }\n",
              "</style>\n",
              "<table border=\"1\" class=\"dataframe\">\n",
              "  <thead>\n",
              "    <tr style=\"text-align: right;\">\n",
              "      <th></th>\n",
              "      <th>2019-01-01</th>\n",
              "      <th>2019-01-02</th>\n",
              "      <th>2019-01-03</th>\n",
              "      <th>2019-01-04</th>\n",
              "      <th>2019-01-05</th>\n",
              "      <th>2019-01-06</th>\n",
              "      <th>2019-01-07</th>\n",
              "      <th>2019-01-08</th>\n",
              "      <th>2019-01-09</th>\n",
              "      <th>2019-01-10</th>\n",
              "      <th>...</th>\n",
              "      <th>2020-12-21</th>\n",
              "      <th>2020-12-22</th>\n",
              "      <th>2020-12-23</th>\n",
              "      <th>2020-12-24</th>\n",
              "      <th>2020-12-25</th>\n",
              "      <th>2020-12-26</th>\n",
              "      <th>2020-12-27</th>\n",
              "      <th>2020-12-28</th>\n",
              "      <th>2020-12-29</th>\n",
              "      <th>2020-12-30</th>\n",
              "    </tr>\n",
              "  </thead>\n",
              "  <tbody>\n",
              "    <tr>\n",
              "      <th>0</th>\n",
              "      <td>-3.533155</td>\n",
              "      <td>-4.475755</td>\n",
              "      <td>-4.748074</td>\n",
              "      <td>-5.569953</td>\n",
              "      <td>-8.017896</td>\n",
              "      <td>-12.396771</td>\n",
              "      <td>-11.853961</td>\n",
              "      <td>-12.046498</td>\n",
              "      <td>-10.297042</td>\n",
              "      <td>-10.075553</td>\n",
              "      <td>...</td>\n",
              "      <td>-168.163849</td>\n",
              "      <td>-168.728405</td>\n",
              "      <td>-168.971555</td>\n",
              "      <td>-168.824042</td>\n",
              "      <td>-167.700081</td>\n",
              "      <td>-167.634364</td>\n",
              "      <td>-167.856116</td>\n",
              "      <td>-168.743465</td>\n",
              "      <td>-168.231590</td>\n",
              "      <td>-167.913551</td>\n",
              "    </tr>\n",
              "    <tr>\n",
              "      <th>1</th>\n",
              "      <td>-3.824475</td>\n",
              "      <td>-1.530769</td>\n",
              "      <td>0.038338</td>\n",
              "      <td>-1.475237</td>\n",
              "      <td>-1.602029</td>\n",
              "      <td>-0.992509</td>\n",
              "      <td>0.302906</td>\n",
              "      <td>1.789140</td>\n",
              "      <td>4.177589</td>\n",
              "      <td>9.273372</td>\n",
              "      <td>...</td>\n",
              "      <td>75.919063</td>\n",
              "      <td>72.909418</td>\n",
              "      <td>75.289867</td>\n",
              "      <td>77.770907</td>\n",
              "      <td>74.099941</td>\n",
              "      <td>72.411474</td>\n",
              "      <td>67.472791</td>\n",
              "      <td>67.084800</td>\n",
              "      <td>66.805609</td>\n",
              "      <td>72.078232</td>\n",
              "    </tr>\n",
              "    <tr>\n",
              "      <th>2</th>\n",
              "      <td>-1.616434</td>\n",
              "      <td>-4.658834</td>\n",
              "      <td>-6.746498</td>\n",
              "      <td>-9.979424</td>\n",
              "      <td>-11.683396</td>\n",
              "      <td>-9.507703</td>\n",
              "      <td>-7.614438</td>\n",
              "      <td>-9.735666</td>\n",
              "      <td>-10.754863</td>\n",
              "      <td>-11.058539</td>\n",
              "      <td>...</td>\n",
              "      <td>47.759469</td>\n",
              "      <td>46.596598</td>\n",
              "      <td>50.135737</td>\n",
              "      <td>48.424880</td>\n",
              "      <td>47.740658</td>\n",
              "      <td>46.676116</td>\n",
              "      <td>45.611939</td>\n",
              "      <td>43.331310</td>\n",
              "      <td>45.655325</td>\n",
              "      <td>39.770838</td>\n",
              "    </tr>\n",
              "    <tr>\n",
              "      <th>3</th>\n",
              "      <td>-0.157282</td>\n",
              "      <td>1.827617</td>\n",
              "      <td>-2.585284</td>\n",
              "      <td>-4.397189</td>\n",
              "      <td>0.113494</td>\n",
              "      <td>7.614615</td>\n",
              "      <td>5.456654</td>\n",
              "      <td>5.928451</td>\n",
              "      <td>6.953534</td>\n",
              "      <td>4.514409</td>\n",
              "      <td>...</td>\n",
              "      <td>318.364962</td>\n",
              "      <td>319.281629</td>\n",
              "      <td>322.614999</td>\n",
              "      <td>325.200268</td>\n",
              "      <td>324.745069</td>\n",
              "      <td>326.519830</td>\n",
              "      <td>326.467326</td>\n",
              "      <td>321.806523</td>\n",
              "      <td>321.286907</td>\n",
              "      <td>323.570847</td>\n",
              "    </tr>\n",
              "    <tr>\n",
              "      <th>4</th>\n",
              "      <td>2.056969</td>\n",
              "      <td>10.187929</td>\n",
              "      <td>8.559520</td>\n",
              "      <td>8.579555</td>\n",
              "      <td>9.464262</td>\n",
              "      <td>9.038088</td>\n",
              "      <td>10.875990</td>\n",
              "      <td>9.883777</td>\n",
              "      <td>8.026472</td>\n",
              "      <td>13.040411</td>\n",
              "      <td>...</td>\n",
              "      <td>-38.079584</td>\n",
              "      <td>-38.515039</td>\n",
              "      <td>-38.031876</td>\n",
              "      <td>-36.610698</td>\n",
              "      <td>-37.753387</td>\n",
              "      <td>-35.470938</td>\n",
              "      <td>-35.454435</td>\n",
              "      <td>-35.026979</td>\n",
              "      <td>-35.633306</td>\n",
              "      <td>-35.460477</td>\n",
              "    </tr>\n",
              "  </tbody>\n",
              "</table>\n",
              "<p>5 rows × 730 columns</p>\n",
              "</div>\n",
              "    <div class=\"colab-df-buttons\">\n",
              "\n",
              "  <div class=\"colab-df-container\">\n",
              "    <button class=\"colab-df-convert\" onclick=\"convertToInteractive('df-429f5a07-82b7-46bb-8a64-bd780c4f8e1d')\"\n",
              "            title=\"Convert this dataframe to an interactive table.\"\n",
              "            style=\"display:none;\">\n",
              "\n",
              "  <svg xmlns=\"http://www.w3.org/2000/svg\" height=\"24px\" viewBox=\"0 -960 960 960\">\n",
              "    <path d=\"M120-120v-720h720v720H120Zm60-500h600v-160H180v160Zm220 220h160v-160H400v160Zm0 220h160v-160H400v160ZM180-400h160v-160H180v160Zm440 0h160v-160H620v160ZM180-180h160v-160H180v160Zm440 0h160v-160H620v160Z\"/>\n",
              "  </svg>\n",
              "    </button>\n",
              "\n",
              "  <style>\n",
              "    .colab-df-container {\n",
              "      display:flex;\n",
              "      gap: 12px;\n",
              "    }\n",
              "\n",
              "    .colab-df-convert {\n",
              "      background-color: #E8F0FE;\n",
              "      border: none;\n",
              "      border-radius: 50%;\n",
              "      cursor: pointer;\n",
              "      display: none;\n",
              "      fill: #1967D2;\n",
              "      height: 32px;\n",
              "      padding: 0 0 0 0;\n",
              "      width: 32px;\n",
              "    }\n",
              "\n",
              "    .colab-df-convert:hover {\n",
              "      background-color: #E2EBFA;\n",
              "      box-shadow: 0px 1px 2px rgba(60, 64, 67, 0.3), 0px 1px 3px 1px rgba(60, 64, 67, 0.15);\n",
              "      fill: #174EA6;\n",
              "    }\n",
              "\n",
              "    .colab-df-buttons div {\n",
              "      margin-bottom: 4px;\n",
              "    }\n",
              "\n",
              "    [theme=dark] .colab-df-convert {\n",
              "      background-color: #3B4455;\n",
              "      fill: #D2E3FC;\n",
              "    }\n",
              "\n",
              "    [theme=dark] .colab-df-convert:hover {\n",
              "      background-color: #434B5C;\n",
              "      box-shadow: 0px 1px 3px 1px rgba(0, 0, 0, 0.15);\n",
              "      filter: drop-shadow(0px 1px 2px rgba(0, 0, 0, 0.3));\n",
              "      fill: #FFFFFF;\n",
              "    }\n",
              "  </style>\n",
              "\n",
              "    <script>\n",
              "      const buttonEl =\n",
              "        document.querySelector('#df-429f5a07-82b7-46bb-8a64-bd780c4f8e1d button.colab-df-convert');\n",
              "      buttonEl.style.display =\n",
              "        google.colab.kernel.accessAllowed ? 'block' : 'none';\n",
              "\n",
              "      async function convertToInteractive(key) {\n",
              "        const element = document.querySelector('#df-429f5a07-82b7-46bb-8a64-bd780c4f8e1d');\n",
              "        const dataTable =\n",
              "          await google.colab.kernel.invokeFunction('convertToInteractive',\n",
              "                                                    [key], {});\n",
              "        if (!dataTable) return;\n",
              "\n",
              "        const docLinkHtml = 'Like what you see? Visit the ' +\n",
              "          '<a target=\"_blank\" href=https://colab.research.google.com/notebooks/data_table.ipynb>data table notebook</a>'\n",
              "          + ' to learn more about interactive tables.';\n",
              "        element.innerHTML = '';\n",
              "        dataTable['output_type'] = 'display_data';\n",
              "        await google.colab.output.renderOutput(dataTable, element);\n",
              "        const docLink = document.createElement('div');\n",
              "        docLink.innerHTML = docLinkHtml;\n",
              "        element.appendChild(docLink);\n",
              "      }\n",
              "    </script>\n",
              "  </div>\n",
              "\n",
              "\n",
              "<div id=\"df-0f6f5d61-0b77-4488-b1c9-0704a10de81c\">\n",
              "  <button class=\"colab-df-quickchart\" onclick=\"quickchart('df-0f6f5d61-0b77-4488-b1c9-0704a10de81c')\"\n",
              "            title=\"Suggest charts\"\n",
              "            style=\"display:none;\">\n",
              "\n",
              "<svg xmlns=\"http://www.w3.org/2000/svg\" height=\"24px\"viewBox=\"0 0 24 24\"\n",
              "     width=\"24px\">\n",
              "    <g>\n",
              "        <path d=\"M19 3H5c-1.1 0-2 .9-2 2v14c0 1.1.9 2 2 2h14c1.1 0 2-.9 2-2V5c0-1.1-.9-2-2-2zM9 17H7v-7h2v7zm4 0h-2V7h2v10zm4 0h-2v-4h2v4z\"/>\n",
              "    </g>\n",
              "</svg>\n",
              "  </button>\n",
              "\n",
              "<style>\n",
              "  .colab-df-quickchart {\n",
              "      --bg-color: #E8F0FE;\n",
              "      --fill-color: #1967D2;\n",
              "      --hover-bg-color: #E2EBFA;\n",
              "      --hover-fill-color: #174EA6;\n",
              "      --disabled-fill-color: #AAA;\n",
              "      --disabled-bg-color: #DDD;\n",
              "  }\n",
              "\n",
              "  [theme=dark] .colab-df-quickchart {\n",
              "      --bg-color: #3B4455;\n",
              "      --fill-color: #D2E3FC;\n",
              "      --hover-bg-color: #434B5C;\n",
              "      --hover-fill-color: #FFFFFF;\n",
              "      --disabled-bg-color: #3B4455;\n",
              "      --disabled-fill-color: #666;\n",
              "  }\n",
              "\n",
              "  .colab-df-quickchart {\n",
              "    background-color: var(--bg-color);\n",
              "    border: none;\n",
              "    border-radius: 50%;\n",
              "    cursor: pointer;\n",
              "    display: none;\n",
              "    fill: var(--fill-color);\n",
              "    height: 32px;\n",
              "    padding: 0;\n",
              "    width: 32px;\n",
              "  }\n",
              "\n",
              "  .colab-df-quickchart:hover {\n",
              "    background-color: var(--hover-bg-color);\n",
              "    box-shadow: 0 1px 2px rgba(60, 64, 67, 0.3), 0 1px 3px 1px rgba(60, 64, 67, 0.15);\n",
              "    fill: var(--button-hover-fill-color);\n",
              "  }\n",
              "\n",
              "  .colab-df-quickchart-complete:disabled,\n",
              "  .colab-df-quickchart-complete:disabled:hover {\n",
              "    background-color: var(--disabled-bg-color);\n",
              "    fill: var(--disabled-fill-color);\n",
              "    box-shadow: none;\n",
              "  }\n",
              "\n",
              "  .colab-df-spinner {\n",
              "    border: 2px solid var(--fill-color);\n",
              "    border-color: transparent;\n",
              "    border-bottom-color: var(--fill-color);\n",
              "    animation:\n",
              "      spin 1s steps(1) infinite;\n",
              "  }\n",
              "\n",
              "  @keyframes spin {\n",
              "    0% {\n",
              "      border-color: transparent;\n",
              "      border-bottom-color: var(--fill-color);\n",
              "      border-left-color: var(--fill-color);\n",
              "    }\n",
              "    20% {\n",
              "      border-color: transparent;\n",
              "      border-left-color: var(--fill-color);\n",
              "      border-top-color: var(--fill-color);\n",
              "    }\n",
              "    30% {\n",
              "      border-color: transparent;\n",
              "      border-left-color: var(--fill-color);\n",
              "      border-top-color: var(--fill-color);\n",
              "      border-right-color: var(--fill-color);\n",
              "    }\n",
              "    40% {\n",
              "      border-color: transparent;\n",
              "      border-right-color: var(--fill-color);\n",
              "      border-top-color: var(--fill-color);\n",
              "    }\n",
              "    60% {\n",
              "      border-color: transparent;\n",
              "      border-right-color: var(--fill-color);\n",
              "    }\n",
              "    80% {\n",
              "      border-color: transparent;\n",
              "      border-right-color: var(--fill-color);\n",
              "      border-bottom-color: var(--fill-color);\n",
              "    }\n",
              "    90% {\n",
              "      border-color: transparent;\n",
              "      border-bottom-color: var(--fill-color);\n",
              "    }\n",
              "  }\n",
              "</style>\n",
              "\n",
              "  <script>\n",
              "    async function quickchart(key) {\n",
              "      const quickchartButtonEl =\n",
              "        document.querySelector('#' + key + ' button');\n",
              "      quickchartButtonEl.disabled = true;  // To prevent multiple clicks.\n",
              "      quickchartButtonEl.classList.add('colab-df-spinner');\n",
              "      try {\n",
              "        const charts = await google.colab.kernel.invokeFunction(\n",
              "            'suggestCharts', [key], {});\n",
              "      } catch (error) {\n",
              "        console.error('Error during call to suggestCharts:', error);\n",
              "      }\n",
              "      quickchartButtonEl.classList.remove('colab-df-spinner');\n",
              "      quickchartButtonEl.classList.add('colab-df-quickchart-complete');\n",
              "    }\n",
              "    (() => {\n",
              "      let quickchartButtonEl =\n",
              "        document.querySelector('#df-0f6f5d61-0b77-4488-b1c9-0704a10de81c button');\n",
              "      quickchartButtonEl.style.display =\n",
              "        google.colab.kernel.accessAllowed ? 'block' : 'none';\n",
              "    })();\n",
              "  </script>\n",
              "</div>\n",
              "    </div>\n",
              "  </div>\n"
            ],
            "application/vnd.google.colaboratory.intrinsic+json": {
              "type": "dataframe",
              "variable_name": "df"
            }
          },
          "metadata": {},
          "execution_count": 3
        }
      ]
    },
    {
      "cell_type": "markdown",
      "id": "acaec743",
      "metadata": {
        "id": "acaec743"
      },
      "source": [
        "## Напишите следующие функции"
      ]
    },
    {
      "cell_type": "code",
      "execution_count": 9,
      "id": "7a7e22f0-5ee0-48dc-9191-38d17bb25853",
      "metadata": {
        "id": "7a7e22f0-5ee0-48dc-9191-38d17bb25853"
      },
      "outputs": [],
      "source": [
        "def generate_groups(df, group_num):\n",
        "    \"\"\"\n",
        "    Splits users into group_num groups of similar size\n",
        "\n",
        "    df : Dataframe with all user data\n",
        "    group_num : number of groups to split into\n",
        "\n",
        "    returns a list of dataframes of generated groups\n",
        "    \"\"\"\n",
        "    # permutations обеспечит случайность выбора наших групп, поэтому основные описательные статистики между группами будут равны при большом числе наблюдений, и группы будут похожими\n",
        "    n_users = len(df)\n",
        "    indexes_to_choose = np.random.permutation(n_users) # Создадим последовательность перестановок длины n\n",
        "    group_indexes = np.array_split(indexes_to_choose, group_num) # Поделим данные на равные группы, получим списки индексов для каждой группы (список списков)\n",
        "    groups = []\n",
        "    for indexes in group_indexes:\n",
        "        group = df.iloc[indexes]\n",
        "        groups.append(group)\n",
        "    return groups\n",
        "\n",
        "# def generate_groups(data, num_groups):\n",
        "#     shuffled_data = data.sample(frac=1) # перемешаем пользователей\n",
        "#     groups = [pd.DataFrame() for _ in range(num_groups)] # создаем num_groups df\n",
        "\n",
        "#     while len(shuffled_data) > 0: # Пока пользователи не кончились\n",
        "#         best_cost_reduction = 100000000000 # макс значение ставим, чтобы потом с ним сравнивать\n",
        "#         best_group = None\n",
        "#         best_candidate_idx = None\n",
        "\n",
        "#         # Находим пару наблюдений, которая максимально уменьшает стоимость\n",
        "#         for i, group in enumerate(groups):  # -> (0,0), (1,1), (2,2)\n",
        "#             for j, candidate_idx in enumerate(shuffled_data.index):\n",
        "#                 candidate = shuffled_data.loc[[candidate_idx]] # берем челика\n",
        "#                 group_combined = pd.concat([group, candidate]) # добавляем в группу\n",
        "#                 cost_reduction = calculate_cost_reduction(groups, group_combined) # считаем функцию потерь\n",
        "\n",
        "#                 if cost_reduction < best_cost_reduction: # Обновляем настройки, если у новой группы функция потерь меньше, чем у прошлых\n",
        "#                     best_cost_reduction = cost_reduction\n",
        "#                     best_group = i\n",
        "#                     best_candidate_idx = candidate_idx\n",
        "\n",
        "#         # Как нашли два челика, раскидываем их по группам\n",
        "#         groups[best_group] = pd.concat([groups[best_group], shuffled_data.loc[[best_candidate_idx]]]) # добавляем нового найденного челика в группу\n",
        "#         shuffled_data = shuffled_data.drop(best_candidate_idx) # и удаляем распределенного в группы челика, повторяем, пока shuffled_data не станет пустым\n",
        "\n",
        "#     return groups\n",
        "\n",
        "# # Функция для вычисления изменения стоимости при добавлении наблюдения в группу\n",
        "# def calculate_cost_reduction(groups, group_combined):\n",
        "#     # Рассчитываем изменение стоимости как сумму различий между группами\n",
        "#     cost_reduction = 0\n",
        "#     for group in groups:\n",
        "#         cost_reduction += abs(group_combined.mean(axis=1) - group.mean(axis=1)) + abs(group_combined.var(axis=1) - group.var(axis=1))\n",
        "#     return cost_reduction\n",
        "\n",
        "\n",
        "\n",
        "# # Генерируем 3 группы\n",
        "# generated_groups = generate_groups(df, 10)\n",
        "\n",
        "# np.random.seed(123)\n",
        "def conduct_tests_on_pair(df_1, df_2):\n",
        "    \"\"\"\n",
        "    Conducts statistical test or tests on two given groups to decide if they are similar\n",
        "\n",
        "    df_i : Dataframe of users of a single group\n",
        "\n",
        "    returns p-value or anything you need further\n",
        "    \"\"\"\n",
        "    means_df_1 = df_1.mean(axis=1)  # Сначала посчитаем среднее значение по времени для каждого пользователя в каждой группе, потом сравним средние значения пользователей двух групп между собой на равенство мат ожидания двух групп\n",
        "    means_df_2 = df_2.mean(axis=1)\n",
        "\n",
        "    var_df_1 = df_1.var(axis=1) # То же самое с дисперсиями\n",
        "    var_df_2 = df_2.var(axis=1)\n",
        "\n",
        "    stat_tt, p_tt = stats.ttest_ind(means_df_1, means_df_2)\n",
        "    stat_mw, p_mw = mannwhitneyu(means_df_1, means_df_2)\n",
        "    stat_lev, p_lev = levene(var_df_1, var_df_2)\n",
        "\n",
        "    # print(f'Двусторонний t-тест, тестовая статистика: {stat_tt}, p-value: {p_tt}')\n",
        "    # print(f'Тест Mann-Witney, тестовая статистика: {stat_mw}, p-value: {p_mw}')\n",
        "    # print(f'Тест Левене, тестовая статистика: {stat_lev}, p-value: {p_lev}')\n",
        "    return stat_tt, p_tt, stat_mw, p_mw, stat_lev, p_lev\n",
        "\n",
        "\n",
        "# print(conduct_tests_on_pair(generated_groups[0], generated_groups[1]))\n",
        "\n",
        "def conduct_tests(dfs, group_num):\n",
        "    \"\"\"\n",
        "    Goal is to find out if there is group_num groups in the dfs list which are similar enough according to your criterion.\n",
        "    For every (or maybe not every) selection of group_num groups from the dfs list and conducts pairwise tests on selected subset using conduct_tests_on_pair.\n",
        "\n",
        "    dfs : list of dataframes of groups\n",
        "\n",
        "    returns list of selected groups or None if there are no similar groups\n",
        "    \"\"\"\n",
        "    group_combinations = combinations(dfs, group_num) # комбинации групп для проверки\n",
        "    for combination in group_combinations:\n",
        "        # Стат тесты для проверки похожести: левене для проверки схожести дисперсий\n",
        "        p_values_tt = []\n",
        "        p_values_mw = []\n",
        "        p_values_lev = []\n",
        "        for df1, df2 in combinations(combination, 2):\n",
        "            tt_stat, p_tt, mw_stat, p_mw, lev_stat, p_lev = conduct_tests_on_pair(df1, df2)\n",
        "            p_values_tt.append(p_tt)\n",
        "            p_values_mw.append(p_mw)\n",
        "            p_values_lev.append(p_lev)\n",
        "\n",
        "        # Будем требовать, чтобы все тесты не отвергались, уровень значимости возьмем побольше, чтобы группы были более похожими\n",
        "        if all(p > 0.2 for p in p_values_tt) and all(p > 0.2 for p in p_values_mw) and all(p > 0.2 for p in p_values_lev):\n",
        "            return list(combination)\n",
        "    return None\n",
        "\n",
        "def find_groups(df, group_num):\n",
        "    \"\"\"\n",
        "    Splits df into groups and conducts tests on subsets of the groups until necessary groups are found\n",
        "    \"\"\"\n",
        "    for i in range(100000):\n",
        "        dfs = generate_groups(df, group_num)\n",
        "        result = conduct_tests(dfs, 3)\n",
        "\n",
        "        if result is not None:\n",
        "            return result"
      ]
    },
    {
      "cell_type": "code",
      "execution_count": null,
      "id": "5ec0bb93-2187-43ff-9a9c-e34eb3c01240",
      "metadata": {
        "id": "5ec0bb93-2187-43ff-9a9c-e34eb3c01240"
      },
      "outputs": [],
      "source": [
        "# df = pd.read_csv('train_data.csv')"
      ]
    },
    {
      "cell_type": "code",
      "execution_count": 10,
      "id": "0cc557a0-3d1b-488c-8737-0234e4436e23",
      "metadata": {
        "id": "0cc557a0-3d1b-488c-8737-0234e4436e23"
      },
      "outputs": [],
      "source": [
        "group_num = 10"
      ]
    },
    {
      "cell_type": "code",
      "execution_count": 11,
      "id": "3642b77e-a191-4048-9544-64afb8131308",
      "metadata": {
        "tags": [],
        "id": "3642b77e-a191-4048-9544-64afb8131308"
      },
      "outputs": [],
      "source": [
        "groups = find_groups(df, group_num)"
      ]
    },
    {
      "cell_type": "code",
      "source": [
        "# for sample in groups:\n",
        "#   print(sample)\n",
        "#   print('-'*100 + '\\n' + '-'*100)"
      ],
      "metadata": {
        "id": "zx8oOORucRe6"
      },
      "id": "zx8oOORucRe6",
      "execution_count": null,
      "outputs": []
    },
    {
      "cell_type": "markdown",
      "id": "72deb6ca-1a40-4791-a8e9-cc6db1cbf5b6",
      "metadata": {
        "id": "72deb6ca-1a40-4791-a8e9-cc6db1cbf5b6"
      },
      "source": [
        "# Visualize groups"
      ]
    },
    {
      "cell_type": "markdown",
      "id": "ab8aa101-49da-44ac-b469-49e87a37ddbf",
      "metadata": {
        "id": "ab8aa101-49da-44ac-b469-49e87a37ddbf"
      },
      "source": [
        "Тут секция, где вам нужно визуализировать распределения выбранных вами метрик для найденных групп и сравнить с аналогичными разультатами для случайных групп"
      ]
    },
    {
      "cell_type": "code",
      "execution_count": null,
      "id": "90eeec51-b333-427b-8f23-3830179652dc",
      "metadata": {
        "id": "90eeec51-b333-427b-8f23-3830179652dc"
      },
      "outputs": [],
      "source": [
        "groups_random = generate_groups(df, 10)"
      ]
    },
    {
      "cell_type": "code",
      "execution_count": 38,
      "id": "e7e5e023-ecce-4855-8894-b6d75eafa35f",
      "metadata": {
        "colab": {
          "base_uri": "https://localhost:8080/",
          "height": 430
        },
        "id": "e7e5e023-ecce-4855-8894-b6d75eafa35f",
        "outputId": "d3c830ba-abaf-4679-82f2-bbbac21ffc4f"
      },
      "outputs": [
        {
          "output_type": "display_data",
          "data": {
            "text/plain": [
              "<Figure size 640x480 with 1 Axes>"
            ],
            "image/png": "[encoded data removed]"
          },
          "metadata": {}
        }
      ],
      "source": [
        "groups = find_groups(df, 10)\n",
        "x1 = np.linspace(-1, 1, 100)\n",
        "y1 = groups[0].mean(axis=1)\n",
        "y2 = groups[1].mean(axis=1)\n",
        "y3 = groups[2].mean(axis=1)\n",
        "fig, ax = plt.subplots(1, 1)\n",
        "ax.hist(y1, density=True, histtype='bar', bins=300, alpha=0.3, color='mediumorchid')\n",
        "ax.hist(y2, density=True, histtype='bar', bins=300, alpha=0.7, color='cyan')\n",
        "ax.hist(y3, density=True, histtype='bar', bins=300, alpha=0.9, color='red')\n",
        "ax.axvline(np.mean(y1), ymax=1, color='black', alpha=0.8)\n",
        "ax.axvline(np.mean(y2), ymax=1, color='green', alpha=0.8)\n",
        "ax.axvline(np.mean(y3), ymax=1, color='yellow', alpha=0.8)\n",
        "# rect = matplotlib.patches.Rectangle((np.mean(y1)-3*np.std(y1),0), 6*np.std(y1), 0.3, color='black', alpha=0.2)\n",
        "# ax.add_patch(rect)\n",
        "plt.xlim(-5000, 3000)\n",
        "plt.show()"
      ]
    },
    {
      "cell_type": "code",
      "source": [
        "fig, ax = plt.subplots(1, 1)\n",
        "rect1 = matplotlib.patches.Rectangle((np.mean(y1)-np.std(y1),0), 2*np.std(y1), 0.7, color='black', alpha=0.25)\n",
        "rect2 = matplotlib.patches.Rectangle((np.mean(y2)-np.std(y2),0), 2*np.std(y2), 0.7, color='red', alpha=0.3)\n",
        "rect3 = matplotlib.patches.Rectangle((np.mean(y3)-np.std(y3),0), 2*np.std(y3), 0.7, color='cyan', alpha=0.35)\n",
        "ax.add_patch(rect1)\n",
        "ax.add_patch(rect2)\n",
        "ax.add_patch(rect3)\n",
        "plt.xlim(-20000, 20000)\n",
        "plt.show()"
      ],
      "metadata": {
        "colab": {
          "base_uri": "https://localhost:8080/",
          "height": 435
        },
        "id": "2lfkyGZzqDmm",
        "outputId": "897785ab-3f50-4126-d72a-7ab913d22e15"
      },
      "id": "2lfkyGZzqDmm",
      "execution_count": 39,
      "outputs": [
        {
          "output_type": "display_data",
          "data": {
            "text/plain": [
              "<Figure size 640x480 with 1 Axes>"
            ],
            "image/png": "[encoded data removed]"
          },
          "metadata": {}
        }
      ]
    },
    {
      "cell_type": "markdown",
      "source": [
        "Видим, что средние и дисперсии примерно равны, потому что мы их так строили."
      ],
      "metadata": {
        "id": "box5AroqzSJT"
      },
      "id": "box5AroqzSJT"
    },
    {
      "cell_type": "code",
      "source": [
        "simulations = 10000\n",
        "n_s = 50\n",
        "res = []\n",
        "from tqdm.auto import tqdm\n",
        "\n",
        "# Запуск симуляций A/A теста\n",
        "for i in tqdm(range(simulations)):\n",
        "  s1 = y1.sample(n_s, replace = False).values\n",
        "  s2 = y3.sample(n_s, replace = False).values\n",
        "  res.append(stats.ttest_ind(s1, s2, equal_var = True)[1]) # сохраняем pvalue\n",
        "\n",
        "plt.hist(res, bins = 50)\n",
        "plt.style.use('ggplot')\n",
        "plt.xlabel('pvalues')\n",
        "plt.ylabel('frequency')\n",
        "plt.title(\"Histogram of ttest A/A simulations \")\n",
        "plt.show()\n",
        "\n",
        "# Проверяем, что количество ложноположительных случаев не превышает альфа\n",
        "sum(np.array(res) < 0.05) / simulations"
      ],
      "metadata": {
        "colab": {
          "base_uri": "https://localhost:8080/",
          "height": 527,
          "referenced_widgets": [
            "dd452506d43c4e869dfe3edab93480b9",
            "931cd526510f44b1ae8e7242d282a658",
            "b724419dd9834203afbbef5990d4582e",
            "82b4e11fce284aeda47ee49738dbe052",
            "604ff40588aa407caead97b70579c7d3",
            "85a79ac28a534a7f9611a6d9fe15d563",
            "3cc47fb72e6d4943b58d922e3103836a",
            "b259f338d1a8423b8f086eff45a1017f",
            "c9eed446877f4dfcb6c1645bde6a8ed8",
            "76e3b598c34a4f38b2f12b087be065ad",
            "fae9a523ff5141698f11df80d2785de4"
          ]
        },
        "id": "938YFPcLvCri",
        "outputId": "b31831e0-1580-4d3f-a7d1-8b2c1d45320f"
      },
      "id": "938YFPcLvCri",
      "execution_count": 40,
      "outputs": [
        {
          "output_type": "display_data",
          "data": {
            "text/plain": [
              "  0%|          | 0/10000 [00:00<?, ?it/s]"
            ],
            "application/vnd.jupyter.widget-view+json": {
              "version_major": 2,
              "version_minor": 0,
              "model_id": "dd452506d43c4e869dfe3edab93480b9"
            }
          },
          "metadata": {}
        },
        {
          "output_type": "display_data",
          "data": {
            "text/plain": [
              "<Figure size 640x480 with 1 Axes>"
            ],
            "image/png": "[encoded data removed]"
          },
          "metadata": {}
        },
        {
          "output_type": "execute_result",
          "data": {
            "text/plain": [
              "0.027"
            ]
          },
          "metadata": {},
          "execution_count": 40
        }
      ]
    },
    {
      "cell_type": "markdown",
      "source": [
        "При этом распределение p-value неравномерное. Это может быть связано с тем, что есть другие характеристики распределения данных, которые мы не учли в своем анализе. Проверим с помощью теста, чтобы убедиться:"
      ],
      "metadata": {
        "id": "wWxL7xpXzun1"
      },
      "id": "wWxL7xpXzun1"
    },
    {
      "cell_type": "code",
      "source": [
        "from scipy.stats import kstest, uniform\n",
        "\n",
        "def is_uniform(sample, significance_level):\n",
        "    # Perform the Kolmogorov-Smirnov test\n",
        "    _, p_value = kstest(sample, uniform.cdf)\n",
        "\n",
        "    return p_value\n",
        "\n",
        "significance_level = 0.05\n",
        "# Example usage\n",
        "p_value = is_uniform(res, significance_level)\n",
        "\n",
        "if p_value > significance_level:\n",
        "    print(\"Uniform\")  # Sample distribution is likely uniform\n",
        "else:\n",
        "    print(\"Not Uniform\")  # Sample distribution is not likely uniform\n",
        "\n",
        "p_value"
      ],
      "metadata": {
        "colab": {
          "base_uri": "https://localhost:8080/"
        },
        "id": "3dm26uSDIGsw",
        "outputId": "31f9c055-08f6-4977-c2a4-eb932f8ea7d7"
      },
      "id": "3dm26uSDIGsw",
      "execution_count": 41,
      "outputs": [
        {
          "output_type": "stream",
          "name": "stdout",
          "text": [
            "Not Uniform\n"
          ]
        },
        {
          "output_type": "execute_result",
          "data": {
            "text/plain": [
              "1.492651484311756e-116"
            ]
          },
          "metadata": {},
          "execution_count": 41
        }
      ]
    },
    {
      "cell_type": "markdown",
      "source": [
        "Для y1, y2 и y2, y3 соотношение примерно такое же"
      ],
      "metadata": {
        "id": "iTe_kr2cz22t"
      },
      "id": "iTe_kr2cz22t"
    },
    {
      "cell_type": "code",
      "source": [
        "simulations = 10000\n",
        "n_s = 50\n",
        "res = []\n",
        "from tqdm.auto import tqdm\n",
        "\n",
        "# Запуск симуляций A/A теста\n",
        "for i in tqdm(range(simulations)):\n",
        "  s1 = y1.sample(n_s, replace = False).values\n",
        "  s2 = y2.sample(n_s, replace = False).values\n",
        "  res.append(stats.ttest_ind(s1, s2, equal_var = True)[1]) # сохраняем pvalue\n",
        "\n",
        "plt.hist(res, bins = 50)\n",
        "plt.style.use('ggplot')\n",
        "plt.xlabel('pvalues')\n",
        "plt.ylabel('frequency')\n",
        "plt.title(\"Histogram of ttest A/A simulations \")\n",
        "plt.show()\n",
        "\n",
        "# Проверяем, что количество ложноположительных случаев не превышает альфа\n",
        "sum(np.array(res) < 0.05) / simulations"
      ],
      "metadata": {
        "colab": {
          "base_uri": "https://localhost:8080/",
          "height": 527,
          "referenced_widgets": [
            "0979f9921bb64f8cbf20b5c1240deb88",
            "e81056a3082242b188fbe376c48d42ea",
            "09b360a2b48b4f7ba662c8d2202d8351",
            "ae8a319d9a0d4f5cac211fb0763de400",
            "3af29bce0caa425ab953d03ff8aa4034",
            "f68b63a7346945a5a15a08ee6f45dcf9",
            "890298022bb644bc9237c8d511023340",
            "aa1b974f234349ee8a6a51455372260f",
            "7cf0472df1e0401ca206c73f943ad39c",
            "80a4bdc04c45489bb31b2f08c0a773a1",
            "7f59ce2eea2541efbb3dd58049af3eed"
          ]
        },
        "id": "OxnPoS3q1UZx",
        "outputId": "1f498ac4-d871-4173-c9fe-31ff2d504ae5"
      },
      "id": "OxnPoS3q1UZx",
      "execution_count": 42,
      "outputs": [
        {
          "output_type": "display_data",
          "data": {
            "text/plain": [
              "  0%|          | 0/10000 [00:00<?, ?it/s]"
            ],
            "application/vnd.jupyter.widget-view+json": {
              "version_major": 2,
              "version_minor": 0,
              "model_id": "0979f9921bb64f8cbf20b5c1240deb88"
            }
          },
          "metadata": {}
        },
        {
          "output_type": "display_data",
          "data": {
            "text/plain": [
              "<Figure size 640x480 with 1 Axes>"
            ],
            "image/png": "[encoded data removed]"
          },
          "metadata": {}
        },
        {
          "output_type": "execute_result",
          "data": {
            "text/plain": [
              "0.0295"
            ]
          },
          "metadata": {},
          "execution_count": 42
        }
      ]
    },
    {
      "cell_type": "code",
      "source": [
        "simulations = 10000\n",
        "n_s = 50\n",
        "res = []\n",
        "from tqdm.auto import tqdm\n",
        "\n",
        "# Запуск симуляций A/A теста\n",
        "for i in tqdm(range(simulations)):\n",
        "  s1 = y2.sample(n_s, replace = False).values\n",
        "  s2 = y3.sample(n_s, replace = False).values\n",
        "  res.append(stats.ttest_ind(s1, s2, equal_var = True)[1]) # сохраняем pvalue\n",
        "\n",
        "plt.hist(res, bins = 50)\n",
        "plt.style.use('ggplot')\n",
        "plt.xlabel('pvalues')\n",
        "plt.ylabel('frequency')\n",
        "plt.title(\"Histogram of ttest A/A simulations \")\n",
        "plt.show()\n",
        "\n",
        "# Проверяем, что количество ложноположительных случаев не превышает альфа\n",
        "sum(np.array(res) < 0.05) / simulations"
      ],
      "metadata": {
        "colab": {
          "base_uri": "https://localhost:8080/",
          "height": 527,
          "referenced_widgets": [
            "0cc06720c44f4f9e93653e74f94bdea5",
            "553066a3b0a842d382b4201ab01a31ea",
            "82b8247bfcc34da89cbad5c7d369008b",
            "99cdb0a611794e0a88f1b321f0d90ba6",
            "1ea7dbd542db43c2a9cc4791e230fe2d",
            "ad09c5bdb7c84ac4971091376493a015",
            "0a1e7266f4e44863add8170393923b98",
            "4c841b365e8b4ec49e1e7420ac42a68e",
            "953cae3598044c56b09d1fceabd2e59e",
            "3c5d4eeb526e41e9b964f6ba32dc0997",
            "aebe1e5f6f604694bea3df7109b1b16d"
          ]
        },
        "id": "Wnj22YJ91WnL",
        "outputId": "e2ebbd93-904c-428e-8c48-cdbcbc35206e"
      },
      "id": "Wnj22YJ91WnL",
      "execution_count": 43,
      "outputs": [
        {
          "output_type": "display_data",
          "data": {
            "text/plain": [
              "  0%|          | 0/10000 [00:00<?, ?it/s]"
            ],
            "application/vnd.jupyter.widget-view+json": {
              "version_major": 2,
              "version_minor": 0,
              "model_id": "0cc06720c44f4f9e93653e74f94bdea5"
            }
          },
          "metadata": {}
        },
        {
          "output_type": "display_data",
          "data": {
            "text/plain": [
              "<Figure size 640x480 with 1 Axes>"
            ],
            "image/png": "[encoded data removed]"
          },
          "metadata": {}
        },
        {
          "output_type": "execute_result",
          "data": {
            "text/plain": [
              "0.0306"
            ]
          },
          "metadata": {},
          "execution_count": 43
        }
      ]
    },
    {
      "cell_type": "markdown",
      "source": [
        "Теперь сравним со случайной выборкой трех групп:"
      ],
      "metadata": {
        "id": "Aw2dndUPz_yl"
      },
      "id": "Aw2dndUPz_yl"
    },
    {
      "cell_type": "code",
      "source": [
        "# df = pd.read_csv(data, delimiter=',')\n",
        "y1 = df.iloc[:5000, :].mean(axis=1)\n",
        "y2 = df.iloc[5000:10000, :].mean(axis=1)\n",
        "y3 = df.iloc[10000:15000, :].mean(axis=1)"
      ],
      "metadata": {
        "id": "oqwgJuffX918"
      },
      "id": "oqwgJuffX918",
      "execution_count": 18,
      "outputs": []
    },
    {
      "cell_type": "code",
      "source": [
        "x1 = np.linspace(-1, 1, 100)\n",
        "fig, ax = plt.subplots(1, 1)\n",
        "ax.hist(y1, density=True, histtype='bar', bins=300, alpha=0.3, color='mediumorchid')\n",
        "ax.hist(y2, density=True, histtype='bar', bins=300, alpha=0.7, color='cyan')\n",
        "ax.hist(y3, density=True, histtype='bar', bins=300, alpha=0.9, color='red')\n",
        "ax.axvline(np.mean(y1), ymax=1, color='black', alpha=0.8)\n",
        "ax.axvline(np.mean(y2), ymax=1, color='green', alpha=0.8)\n",
        "ax.axvline(np.mean(y3), ymax=1, color='yellow', alpha=0.8)\n",
        "# rect = matplotlib.patches.Rectangle((np.mean(y1)-3*np.std(y1),0), 6*np.std(y1), 0.3, color='black', alpha=0.2)\n",
        "# ax.add_patch(rect)\n",
        "plt.xlim(-5000, 3000)\n",
        "\n",
        "plt.show()"
      ],
      "metadata": {
        "colab": {
          "base_uri": "https://localhost:8080/",
          "height": 430
        },
        "id": "XPONTtZuYqjC",
        "outputId": "12dda3af-ac66-4da0-c102-da0c44f5c0d5"
      },
      "id": "XPONTtZuYqjC",
      "execution_count": 19,
      "outputs": [
        {
          "output_type": "display_data",
          "data": {
            "text/plain": [
              "<Figure size 640x480 with 1 Axes>"
            ],
            "image/png": "[encoded data removed]"
          },
          "metadata": {}
        }
      ]
    },
    {
      "cell_type": "code",
      "source": [
        "fig, ax = plt.subplots(1, 1)\n",
        "rect1 = matplotlib.patches.Rectangle((np.mean(y1)-np.std(y1),0), 2*np.std(y1), 0.7, color='black', alpha=0.25)\n",
        "rect2 = matplotlib.patches.Rectangle((np.mean(y2)-np.std(y2),0), 2*np.std(y2), 0.7, color='red', alpha=0.3)\n",
        "rect3 = matplotlib.patches.Rectangle((np.mean(y3)-np.std(y3),0), 2*np.std(y3), 0.7, color='cyan', alpha=0.35)\n",
        "ax.add_patch(rect1)\n",
        "ax.add_patch(rect2)\n",
        "ax.add_patch(rect3)\n",
        "plt.xlim(-20000, 20000)\n",
        "plt.show()"
      ],
      "metadata": {
        "colab": {
          "base_uri": "https://localhost:8080/",
          "height": 435
        },
        "id": "_DOak2QDZuPT",
        "outputId": "1160a6f9-0654-48ed-87ad-14a02cfe52ae"
      },
      "id": "_DOak2QDZuPT",
      "execution_count": 20,
      "outputs": [
        {
          "output_type": "display_data",
          "data": {
            "text/plain": [
              "<Figure size 640x480 with 1 Axes>"
            ],
            "image/png": "[encoded data removed]"
          },
          "metadata": {}
        }
      ]
    },
    {
      "cell_type": "markdown",
      "source": [
        "Матожидания тоже совпали, но дисперсии при этом немного отличаются"
      ],
      "metadata": {
        "id": "SaOcsrUq0HoC"
      },
      "id": "SaOcsrUq0HoC"
    },
    {
      "cell_type": "code",
      "source": [
        "# n = 100_000\n",
        "simulations = 10000\n",
        "n_s = 50\n",
        "res = []\n",
        "from tqdm.auto import tqdm\n",
        "\n",
        "# Запуск симуляций A/A теста\n",
        "for i in tqdm(range(simulations)):\n",
        "  s1 = y1.sample(n_s, replace = False).values\n",
        "  s2 = y2.sample(n_s, replace = False).values\n",
        "  res.append(stats.ttest_ind(s1, s2, equal_var = False)[1]) # сохраняем pvalue\n",
        "\n",
        "plt.hist(res, bins = 50)\n",
        "plt.style.use('ggplot')\n",
        "plt.xlabel('pvalues')\n",
        "plt.ylabel('frequency')\n",
        "plt.title(\"Histogram of ttest A/A simulations \")\n",
        "plt.show()\n",
        "\n",
        "# Проверяем, что количество ложноположительных случаев не превышает альфа\n",
        "sum(np.array(res) < 0.05) / simulations"
      ],
      "metadata": {
        "colab": {
          "base_uri": "https://localhost:8080/",
          "height": 527,
          "referenced_widgets": [
            "4ee7077afe4f43d08d7a6c81c66a6f75",
            "bb46bf33d2ba4377842e720756eed45d",
            "d133b13a94c94fbe916f94f4bd6addf9",
            "209dce02cf7f4a52b95c1d74f2c550d6",
            "e3bc1328aa4d43ada61e96f437999a6a",
            "bf1d9e4e0ac34f6f865942b893734ab1",
            "37e3990333024ddaa9163f6aa979d8a7",
            "07ea23db87034b1d84cf0a1b3e844268",
            "f84f99ec6d42463a9e0cea727d9d31a3",
            "e42dd3b85aaa453a9252fbf4af76f20d",
            "4e1e3f0992004ddb94f478da48971554"
          ]
        },
        "id": "FXrsJVYhZzUs",
        "outputId": "7b0ccc1d-2532-4845-ef92-b8536942d47d"
      },
      "id": "FXrsJVYhZzUs",
      "execution_count": 21,
      "outputs": [
        {
          "output_type": "display_data",
          "data": {
            "text/plain": [
              "  0%|          | 0/10000 [00:00<?, ?it/s]"
            ],
            "application/vnd.jupyter.widget-view+json": {
              "version_major": 2,
              "version_minor": 0,
              "model_id": "4ee7077afe4f43d08d7a6c81c66a6f75"
            }
          },
          "metadata": {}
        },
        {
          "output_type": "display_data",
          "data": {
            "text/plain": [
              "<Figure size 640x480 with 1 Axes>"
            ],
            "image/png": "[encoded data removed]"
          },
          "metadata": {}
        },
        {
          "output_type": "execute_result",
          "data": {
            "text/plain": [
              "0.0278"
            ]
          },
          "metadata": {},
          "execution_count": 21
        }
      ]
    },
    {
      "cell_type": "markdown",
      "source": [
        "Распределение p-value неравномерное, что подтверждается тестом:"
      ],
      "metadata": {
        "id": "ehaiTyIh0OP3"
      },
      "id": "ehaiTyIh0OP3"
    },
    {
      "cell_type": "code",
      "source": [
        "from scipy.stats import kstest, uniform\n",
        "\n",
        "def is_uniform(sample, significance_level):\n",
        "    # Perform the Kolmogorov-Smirnov test\n",
        "    _, p_value = kstest(sample, uniform.cdf)\n",
        "\n",
        "    return p_value\n",
        "\n",
        "significance_level = 0.05\n",
        "# Example usage\n",
        "p_value = is_uniform(res, significance_level)\n",
        "\n",
        "if p_value > significance_level:\n",
        "    print(\"Uniform\")  # Sample distribution is likely uniform\n",
        "else:\n",
        "    print(\"Not Uniform\")  # Sample distribution is not likely uniform\n",
        "\n",
        "p_value"
      ],
      "metadata": {
        "colab": {
          "base_uri": "https://localhost:8080/"
        },
        "id": "MAJ8zelGaEVT",
        "outputId": "13453fbc-f9c7-4c27-b969-37edd9d41a57"
      },
      "id": "MAJ8zelGaEVT",
      "execution_count": 22,
      "outputs": [
        {
          "output_type": "stream",
          "name": "stdout",
          "text": [
            "Not Uniform\n"
          ]
        },
        {
          "output_type": "execute_result",
          "data": {
            "text/plain": [
              "4.05287317324593e-88"
            ]
          },
          "metadata": {},
          "execution_count": 22
        }
      ]
    },
    {
      "cell_type": "markdown",
      "source": [
        "Распределение неравномерное."
      ],
      "metadata": {
        "id": "3_pgRtZP0Vby"
      },
      "id": "3_pgRtZP0Vby"
    },
    {
      "cell_type": "markdown",
      "source": [
        "Результат говорит о том, что сплит-система отрабатывает не совсем корректно.\n",
        "Я пытался построить жадный алгоритм отбора пользователей в группы, но, к сожалению, так и не смог реализовать полностью его. Жадный алгоритм дал бы более хорошие результаты, потому что сам метод основан на том, что мы отбираем пользователей, исходя из минимизации разности их метрик (матожидания и дисперсии) и получаем во всех группах пользователей с одинаковым распределением этих метрик."
      ],
      "metadata": {
        "id": "4Vba7KGm0Ypb"
      },
      "id": "4Vba7KGm0Ypb"
    }
  ],
  "metadata": {
    "kernelspec": {
      "display_name": "Python 3",
      "name": "python3"
    },
    "language_info": {
      "codemirror_mode": {
        "name": "ipython",
        "version": 3
      },
      "file_extension": ".py",
      "mimetype": "text/x-python",
      "name": "python",
      "nbconvert_exporter": "python",
      "pygments_lexer": "ipython3",
      "version": "3.11.4"
    },
    "colab": {
      "provenance": [],
      "gpuType": "T4"
    },
    "widgets": {
      "application/vnd.jupyter.widget-state+json": {
        "dd452506d43c4e869dfe3edab93480b9": {
          "model_module": "@jupyter-widgets/controls",
          "model_name": "HBoxModel",
          "model_module_version": "1.5.0",
          "state": {
            "_dom_classes": [],
            "_model_module": "@jupyter-widgets/controls",
            "_model_module_version": "1.5.0",
            "_model_name": "HBoxModel",
            "_view_count": null,
            "_view_module": "@jupyter-widgets/controls",
            "_view_module_version": "1.5.0",
            "_view_name": "HBoxView",
            "box_style": "",
            "children": [
              "IPY_MODEL_931cd526510f44b1ae8e7242d282a658",
              "IPY_MODEL_b724419dd9834203afbbef5990d4582e",
              "IPY_MODEL_82b4e11fce284aeda47ee49738dbe052"
            ],
            "layout": "IPY_MODEL_604ff40588aa407caead97b70579c7d3"
          }
        },
        "931cd526510f44b1ae8e7242d282a658": {
          "model_module": "@jupyter-widgets/controls",
          "model_name": "HTMLModel",
          "model_module_version": "1.5.0",
          "state": {
            "_dom_classes": [],
            "_model_module": "@jupyter-widgets/controls",
            "_model_module_version": "1.5.0",
            "_model_name": "HTMLModel",
            "_view_count": null,
            "_view_module": "@jupyter-widgets/controls",
            "_view_module_version": "1.5.0",
            "_view_name": "HTMLView",
            "description": "",
            "description_tooltip": null,
            "layout": "IPY_MODEL_85a79ac28a534a7f9611a6d9fe15d563",
            "placeholder": "​",
            "style": "IPY_MODEL_3cc47fb72e6d4943b58d922e3103836a",
            "value": "100%"
          }
        },
        "b724419dd9834203afbbef5990d4582e": {
          "model_module": "@jupyter-widgets/controls",
          "model_name": "FloatProgressModel",
          "model_module_version": "1.5.0",
          "state": {
            "_dom_classes": [],
            "_model_module": "@jupyter-widgets/controls",
            "_model_module_version": "1.5.0",
            "_model_name": "FloatProgressModel",
            "_view_count": null,
            "_view_module": "@jupyter-widgets/controls",
            "_view_module_version": "1.5.0",
            "_view_name": "ProgressView",
            "bar_style": "success",
            "description": "",
            "description_tooltip": null,
            "layout": "IPY_MODEL_b259f338d1a8423b8f086eff45a1017f",
            "max": 10000,
            "min": 0,
            "orientation": "horizontal",
            "style": "IPY_MODEL_c9eed446877f4dfcb6c1645bde6a8ed8",
            "value": 10000
          }
        },
        "82b4e11fce284aeda47ee49738dbe052": {
          "model_module": "@jupyter-widgets/controls",
          "model_name": "HTMLModel",
          "model_module_version": "1.5.0",
          "state": {
            "_dom_classes": [],
            "_model_module": "@jupyter-widgets/controls",
            "_model_module_version": "1.5.0",
            "_model_name": "HTMLModel",
            "_view_count": null,
            "_view_module": "@jupyter-widgets/controls",
            "_view_module_version": "1.5.0",
            "_view_name": "HTMLView",
            "description": "",
            "description_tooltip": null,
            "layout": "IPY_MODEL_76e3b598c34a4f38b2f12b087be065ad",
            "placeholder": "​",
            "style": "IPY_MODEL_fae9a523ff5141698f11df80d2785de4",
            "value": " 10000/10000 [00:12&lt;00:00, 637.67it/s]"
          }
        },
        "604ff40588aa407caead97b70579c7d3": {
          "model_module": "@jupyter-widgets/base",
          "model_name": "LayoutModel",
          "model_module_version": "1.2.0",
          "state": {
            "_model_module": "@jupyter-widgets/base",
            "_model_module_version": "1.2.0",
            "_model_name": "LayoutModel",
            "_view_count": null,
            "_view_module": "@jupyter-widgets/base",
            "_view_module_version": "1.2.0",
            "_view_name": "LayoutView",
            "align_content": null,
            "align_items": null,
            "align_self": null,
            "border": null,
            "bottom": null,
            "display": null,
            "flex": null,
            "flex_flow": null,
            "grid_area": null,
            "grid_auto_columns": null,
            "grid_auto_flow": null,
            "grid_auto_rows": null,
            "grid_column": null,
            "grid_gap": null,
            "grid_row": null,
            "grid_template_areas": null,
            "grid_template_columns": null,
            "grid_template_rows": null,
            "height": null,
            "justify_content": null,
            "justify_items": null,
            "left": null,
            "margin": null,
            "max_height": null,
            "max_width": null,
            "min_height": null,
            "min_width": null,
            "object_fit": null,
            "object_position": null,
            "order": null,
            "overflow": null,
            "overflow_x": null,
            "overflow_y": null,
            "padding": null,
            "right": null,
            "top": null,
            "visibility": null,
            "width": null
          }
        },
        "85a79ac28a534a7f9611a6d9fe15d563": {
          "model_module": "@jupyter-widgets/base",
          "model_name": "LayoutModel",
          "model_module_version": "1.2.0",
          "state": {
            "_model_module": "@jupyter-widgets/base",
            "_model_module_version": "1.2.0",
            "_model_name": "LayoutModel",
            "_view_count": null,
            "_view_module": "@jupyter-widgets/base",
            "_view_module_version": "1.2.0",
            "_view_name": "LayoutView",
            "align_content": null,
            "align_items": null,
            "align_self": null,
            "border": null,
            "bottom": null,
            "display": null,
            "flex": null,
            "flex_flow": null,
            "grid_area": null,
            "grid_auto_columns": null,
            "grid_auto_flow": null,
            "grid_auto_rows": null,
            "grid_column": null,
            "grid_gap": null,
            "grid_row": null,
            "grid_template_areas": null,
            "grid_template_columns": null,
            "grid_template_rows": null,
            "height": null,
            "justify_content": null,
            "justify_items": null,
            "left": null,
            "margin": null,
            "max_height": null,
            "max_width": null,
            "min_height": null,
            "min_width": null,
            "object_fit": null,
            "object_position": null,
            "order": null,
            "overflow": null,
            "overflow_x": null,
            "overflow_y": null,
            "padding": null,
            "right": null,
            "top": null,
            "visibility": null,
            "width": null
          }
        },
        "3cc47fb72e6d4943b58d922e3103836a": {
          "model_module": "@jupyter-widgets/controls",
          "model_name": "DescriptionStyleModel",
          "model_module_version": "1.5.0",
          "state": {
            "_model_module": "@jupyter-widgets/controls",
            "_model_module_version": "1.5.0",
            "_model_name": "DescriptionStyleModel",
            "_view_count": null,
            "_view_module": "@jupyter-widgets/base",
            "_view_module_version": "1.2.0",
            "_view_name": "StyleView",
            "description_width": ""
          }
        },
        "b259f338d1a8423b8f086eff45a1017f": {
          "model_module": "@jupyter-widgets/base",
          "model_name": "LayoutModel",
          "model_module_version": "1.2.0",
          "state": {
            "_model_module": "@jupyter-widgets/base",
            "_model_module_version": "1.2.0",
            "_model_name": "LayoutModel",
            "_view_count": null,
            "_view_module": "@jupyter-widgets/base",
            "_view_module_version": "1.2.0",
            "_view_name": "LayoutView",
            "align_content": null,
            "align_items": null,
            "align_self": null,
            "border": null,
            "bottom": null,
            "display": null,
            "flex": null,
            "flex_flow": null,
            "grid_area": null,
            "grid_auto_columns": null,
            "grid_auto_flow": null,
            "grid_auto_rows": null,
            "grid_column": null,
            "grid_gap": null,
            "grid_row": null,
            "grid_template_areas": null,
            "grid_template_columns": null,
            "grid_template_rows": null,
            "height": null,
            "justify_content": null,
            "justify_items": null,
            "left": null,
            "margin": null,
            "max_height": null,
            "max_width": null,
            "min_height": null,
            "min_width": null,
            "object_fit": null,
            "object_position": null,
            "order": null,
            "overflow": null,
            "overflow_x": null,
            "overflow_y": null,
            "padding": null,
            "right": null,
            "top": null,
            "visibility": null,
            "width": null
          }
        },
        "c9eed446877f4dfcb6c1645bde6a8ed8": {
          "model_module": "@jupyter-widgets/controls",
          "model_name": "ProgressStyleModel",
          "model_module_version": "1.5.0",
          "state": {
            "_model_module": "@jupyter-widgets/controls",
            "_model_module_version": "1.5.0",
            "_model_name": "ProgressStyleModel",
            "_view_count": null,
            "_view_module": "@jupyter-widgets/base",
            "_view_module_version": "1.2.0",
            "_view_name": "StyleView",
            "bar_color": null,
            "description_width": ""
          }
        },
        "76e3b598c34a4f38b2f12b087be065ad": {
          "model_module": "@jupyter-widgets/base",
          "model_name": "LayoutModel",
          "model_module_version": "1.2.0",
          "state": {
            "_model_module": "@jupyter-widgets/base",
            "_model_module_version": "1.2.0",
            "_model_name": "LayoutModel",
            "_view_count": null,
            "_view_module": "@jupyter-widgets/base",
            "_view_module_version": "1.2.0",
            "_view_name": "LayoutView",
            "align_content": null,
            "align_items": null,
            "align_self": null,
            "border": null,
            "bottom": null,
            "display": null,
            "flex": null,
            "flex_flow": null,
            "grid_area": null,
            "grid_auto_columns": null,
            "grid_auto_flow": null,
            "grid_auto_rows": null,
            "grid_column": null,
            "grid_gap": null,
            "grid_row": null,
            "grid_template_areas": null,
            "grid_template_columns": null,
            "grid_template_rows": null,
            "height": null,
            "justify_content": null,
            "justify_items": null,
            "left": null,
            "margin": null,
            "max_height": null,
            "max_width": null,
            "min_height": null,
            "min_width": null,
            "object_fit": null,
            "object_position": null,
            "order": null,
            "overflow": null,
            "overflow_x": null,
            "overflow_y": null,
            "padding": null,
            "right": null,
            "top": null,
            "visibility": null,
            "width": null
          }
        },
        "fae9a523ff5141698f11df80d2785de4": {
          "model_module": "@jupyter-widgets/controls",
          "model_name": "DescriptionStyleModel",
          "model_module_version": "1.5.0",
          "state": {
            "_model_module": "@jupyter-widgets/controls",
            "_model_module_version": "1.5.0",
            "_model_name": "DescriptionStyleModel",
            "_view_count": null,
            "_view_module": "@jupyter-widgets/base",
            "_view_module_version": "1.2.0",
            "_view_name": "StyleView",
            "description_width": ""
          }
        },
        "0979f9921bb64f8cbf20b5c1240deb88": {
          "model_module": "@jupyter-widgets/controls",
          "model_name": "HBoxModel",
          "model_module_version": "1.5.0",
          "state": {
            "_dom_classes": [],
            "_model_module": "@jupyter-widgets/controls",
            "_model_module_version": "1.5.0",
            "_model_name": "HBoxModel",
            "_view_count": null,
            "_view_module": "@jupyter-widgets/controls",
            "_view_module_version": "1.5.0",
            "_view_name": "HBoxView",
            "box_style": "",
            "children": [
              "IPY_MODEL_e81056a3082242b188fbe376c48d42ea",
              "IPY_MODEL_09b360a2b48b4f7ba662c8d2202d8351",
              "IPY_MODEL_ae8a319d9a0d4f5cac211fb0763de400"
            ],
            "layout": "IPY_MODEL_3af29bce0caa425ab953d03ff8aa4034"
          }
        },
        "e81056a3082242b188fbe376c48d42ea": {
          "model_module": "@jupyter-widgets/controls",
          "model_name": "HTMLModel",
          "model_module_version": "1.5.0",
          "state": {
            "_dom_classes": [],
            "_model_module": "@jupyter-widgets/controls",
            "_model_module_version": "1.5.0",
            "_model_name": "HTMLModel",
            "_view_count": null,
            "_view_module": "@jupyter-widgets/controls",
            "_view_module_version": "1.5.0",
            "_view_name": "HTMLView",
            "description": "",
            "description_tooltip": null,
            "layout": "IPY_MODEL_f68b63a7346945a5a15a08ee6f45dcf9",
            "placeholder": "​",
            "style": "IPY_MODEL_890298022bb644bc9237c8d511023340",
            "value": "100%"
          }
        },
        "09b360a2b48b4f7ba662c8d2202d8351": {
          "model_module": "@jupyter-widgets/controls",
          "model_name": "FloatProgressModel",
          "model_module_version": "1.5.0",
          "state": {
            "_dom_classes": [],
            "_model_module": "@jupyter-widgets/controls",
            "_model_module_version": "1.5.0",
            "_model_name": "FloatProgressModel",
            "_view_count": null,
            "_view_module": "@jupyter-widgets/controls",
            "_view_module_version": "1.5.0",
            "_view_name": "ProgressView",
            "bar_style": "success",
            "description": "",
            "description_tooltip": null,
            "layout": "IPY_MODEL_aa1b974f234349ee8a6a51455372260f",
            "max": 10000,
            "min": 0,
            "orientation": "horizontal",
            "style": "IPY_MODEL_7cf0472df1e0401ca206c73f943ad39c",
            "value": 10000
          }
        },
        "ae8a319d9a0d4f5cac211fb0763de400": {
          "model_module": "@jupyter-widgets/controls",
          "model_name": "HTMLModel",
          "model_module_version": "1.5.0",
          "state": {
            "_dom_classes": [],
            "_model_module": "@jupyter-widgets/controls",
            "_model_module_version": "1.5.0",
            "_model_name": "HTMLModel",
            "_view_count": null,
            "_view_module": "@jupyter-widgets/controls",
            "_view_module_version": "1.5.0",
            "_view_name": "HTMLView",
            "description": "",
            "description_tooltip": null,
            "layout": "IPY_MODEL_80a4bdc04c45489bb31b2f08c0a773a1",
            "placeholder": "​",
            "style": "IPY_MODEL_7f59ce2eea2541efbb3dd58049af3eed",
            "value": " 10000/10000 [00:13&lt;00:00, 575.19it/s]"
          }
        },
        "3af29bce0caa425ab953d03ff8aa4034": {
          "model_module": "@jupyter-widgets/base",
          "model_name": "LayoutModel",
          "model_module_version": "1.2.0",
          "state": {
            "_model_module": "@jupyter-widgets/base",
            "_model_module_version": "1.2.0",
            "_model_name": "LayoutModel",
            "_view_count": null,
            "_view_module": "@jupyter-widgets/base",
            "_view_module_version": "1.2.0",
            "_view_name": "LayoutView",
            "align_content": null,
            "align_items": null,
            "align_self": null,
            "border": null,
            "bottom": null,
            "display": null,
            "flex": null,
            "flex_flow": null,
            "grid_area": null,
            "grid_auto_columns": null,
            "grid_auto_flow": null,
            "grid_auto_rows": null,
            "grid_column": null,
            "grid_gap": null,
            "grid_row": null,
            "grid_template_areas": null,
            "grid_template_columns": null,
            "grid_template_rows": null,
            "height": null,
            "justify_content": null,
            "justify_items": null,
            "left": null,
            "margin": null,
            "max_height": null,
            "max_width": null,
            "min_height": null,
            "min_width": null,
            "object_fit": null,
            "object_position": null,
            "order": null,
            "overflow": null,
            "overflow_x": null,
            "overflow_y": null,
            "padding": null,
            "right": null,
            "top": null,
            "visibility": null,
            "width": null
          }
        },
        "f68b63a7346945a5a15a08ee6f45dcf9": {
          "model_module": "@jupyter-widgets/base",
          "model_name": "LayoutModel",
          "model_module_version": "1.2.0",
          "state": {
            "_model_module": "@jupyter-widgets/base",
            "_model_module_version": "1.2.0",
            "_model_name": "LayoutModel",
            "_view_count": null,
            "_view_module": "@jupyter-widgets/base",
            "_view_module_version": "1.2.0",
            "_view_name": "LayoutView",
            "align_content": null,
            "align_items": null,
            "align_self": null,
            "border": null,
            "bottom": null,
            "display": null,
            "flex": null,
            "flex_flow": null,
            "grid_area": null,
            "grid_auto_columns": null,
            "grid_auto_flow": null,
            "grid_auto_rows": null,
            "grid_column": null,
            "grid_gap": null,
            "grid_row": null,
            "grid_template_areas": null,
            "grid_template_columns": null,
            "grid_template_rows": null,
            "height": null,
            "justify_content": null,
            "justify_items": null,
            "left": null,
            "margin": null,
            "max_height": null,
            "max_width": null,
            "min_height": null,
            "min_width": null,
            "object_fit": null,
            "object_position": null,
            "order": null,
            "overflow": null,
            "overflow_x": null,
            "overflow_y": null,
            "padding": null,
            "right": null,
            "top": null,
            "visibility": null,
            "width": null
          }
        },
        "890298022bb644bc9237c8d511023340": {
          "model_module": "@jupyter-widgets/controls",
          "model_name": "DescriptionStyleModel",
          "model_module_version": "1.5.0",
          "state": {
            "_model_module": "@jupyter-widgets/controls",
            "_model_module_version": "1.5.0",
            "_model_name": "DescriptionStyleModel",
            "_view_count": null,
            "_view_module": "@jupyter-widgets/base",
            "_view_module_version": "1.2.0",
            "_view_name": "StyleView",
            "description_width": ""
          }
        },
        "aa1b974f234349ee8a6a51455372260f": {
          "model_module": "@jupyter-widgets/base",
          "model_name": "LayoutModel",
          "model_module_version": "1.2.0",
          "state": {
            "_model_module": "@jupyter-widgets/base",
            "_model_module_version": "1.2.0",
            "_model_name": "LayoutModel",
            "_view_count": null,
            "_view_module": "@jupyter-widgets/base",
            "_view_module_version": "1.2.0",
            "_view_name": "LayoutView",
            "align_content": null,
            "align_items": null,
            "align_self": null,
            "border": null,
            "bottom": null,
            "display": null,
            "flex": null,
            "flex_flow": null,
            "grid_area": null,
            "grid_auto_columns": null,
            "grid_auto_flow": null,
            "grid_auto_rows": null,
            "grid_column": null,
            "grid_gap": null,
            "grid_row": null,
            "grid_template_areas": null,
            "grid_template_columns": null,
            "grid_template_rows": null,
            "height": null,
            "justify_content": null,
            "justify_items": null,
            "left": null,
            "margin": null,
            "max_height": null,
            "max_width": null,
            "min_height": null,
            "min_width": null,
            "object_fit": null,
            "object_position": null,
            "order": null,
            "overflow": null,
            "overflow_x": null,
            "overflow_y": null,
            "padding": null,
            "right": null,
            "top": null,
            "visibility": null,
            "width": null
          }
        },
        "7cf0472df1e0401ca206c73f943ad39c": {
          "model_module": "@jupyter-widgets/controls",
          "model_name": "ProgressStyleModel",
          "model_module_version": "1.5.0",
          "state": {
            "_model_module": "@jupyter-widgets/controls",
            "_model_module_version": "1.5.0",
            "_model_name": "ProgressStyleModel",
            "_view_count": null,
            "_view_module": "@jupyter-widgets/base",
            "_view_module_version": "1.2.0",
            "_view_name": "StyleView",
            "bar_color": null,
            "description_width": ""
          }
        },
        "80a4bdc04c45489bb31b2f08c0a773a1": {
          "model_module": "@jupyter-widgets/base",
          "model_name": "LayoutModel",
          "model_module_version": "1.2.0",
          "state": {
            "_model_module": "@jupyter-widgets/base",
            "_model_module_version": "1.2.0",
            "_model_name": "LayoutModel",
            "_view_count": null,
            "_view_module": "@jupyter-widgets/base",
            "_view_module_version": "1.2.0",
            "_view_name": "LayoutView",
            "align_content": null,
            "align_items": null,
            "align_self": null,
            "border": null,
            "bottom": null,
            "display": null,
            "flex": null,
            "flex_flow": null,
            "grid_area": null,
            "grid_auto_columns": null,
            "grid_auto_flow": null,
            "grid_auto_rows": null,
            "grid_column": null,
            "grid_gap": null,
            "grid_row": null,
            "grid_template_areas": null,
            "grid_template_columns": null,
            "grid_template_rows": null,
            "height": null,
            "justify_content": null,
            "justify_items": null,
            "left": null,
            "margin": null,
            "max_height": null,
            "max_width": null,
            "min_height": null,
            "min_width": null,
            "object_fit": null,
            "object_position": null,
            "order": null,
            "overflow": null,
            "overflow_x": null,
            "overflow_y": null,
            "padding": null,
            "right": null,
            "top": null,
            "visibility": null,
            "width": null
          }
        },
        "7f59ce2eea2541efbb3dd58049af3eed": {
          "model_module": "@jupyter-widgets/controls",
          "model_name": "DescriptionStyleModel",
          "model_module_version": "1.5.0",
          "state": {
            "_model_module": "@jupyter-widgets/controls",
            "_model_module_version": "1.5.0",
            "_model_name": "DescriptionStyleModel",
            "_view_count": null,
            "_view_module": "@jupyter-widgets/base",
            "_view_module_version": "1.2.0",
            "_view_name": "StyleView",
            "description_width": ""
          }
        },
        "0cc06720c44f4f9e93653e74f94bdea5": {
          "model_module": "@jupyter-widgets/controls",
          "model_name": "HBoxModel",
          "model_module_version": "1.5.0",
          "state": {
            "_dom_classes": [],
            "_model_module": "@jupyter-widgets/controls",
            "_model_module_version": "1.5.0",
            "_model_name": "HBoxModel",
            "_view_count": null,
            "_view_module": "@jupyter-widgets/controls",
            "_view_module_version": "1.5.0",
            "_view_name": "HBoxView",
            "box_style": "",
            "children": [
              "IPY_MODEL_553066a3b0a842d382b4201ab01a31ea",
              "IPY_MODEL_82b8247bfcc34da89cbad5c7d369008b",
              "IPY_MODEL_99cdb0a611794e0a88f1b321f0d90ba6"
            ],
            "layout": "IPY_MODEL_1ea7dbd542db43c2a9cc4791e230fe2d"
          }
        },
        "553066a3b0a842d382b4201ab01a31ea": {
          "model_module": "@jupyter-widgets/controls",
          "model_name": "HTMLModel",
          "model_module_version": "1.5.0",
          "state": {
            "_dom_classes": [],
            "_model_module": "@jupyter-widgets/controls",
            "_model_module_version": "1.5.0",
            "_model_name": "HTMLModel",
            "_view_count": null,
            "_view_module": "@jupyter-widgets/controls",
            "_view_module_version": "1.5.0",
            "_view_name": "HTMLView",
            "description": "",
            "description_tooltip": null,
            "layout": "IPY_MODEL_ad09c5bdb7c84ac4971091376493a015",
            "placeholder": "​",
            "style": "IPY_MODEL_0a1e7266f4e44863add8170393923b98",
            "value": "100%"
          }
        },
        "82b8247bfcc34da89cbad5c7d369008b": {
          "model_module": "@jupyter-widgets/controls",
          "model_name": "FloatProgressModel",
          "model_module_version": "1.5.0",
          "state": {
            "_dom_classes": [],
            "_model_module": "@jupyter-widgets/controls",
            "_model_module_version": "1.5.0",
            "_model_name": "FloatProgressModel",
            "_view_count": null,
            "_view_module": "@jupyter-widgets/controls",
            "_view_module_version": "1.5.0",
            "_view_name": "ProgressView",
            "bar_style": "success",
            "description": "",
            "description_tooltip": null,
            "layout": "IPY_MODEL_4c841b365e8b4ec49e1e7420ac42a68e",
            "max": 10000,
            "min": 0,
            "orientation": "horizontal",
            "style": "IPY_MODEL_953cae3598044c56b09d1fceabd2e59e",
            "value": 10000
          }
        },
        "99cdb0a611794e0a88f1b321f0d90ba6": {
          "model_module": "@jupyter-widgets/controls",
          "model_name": "HTMLModel",
          "model_module_version": "1.5.0",
          "state": {
            "_dom_classes": [],
            "_model_module": "@jupyter-widgets/controls",
            "_model_module_version": "1.5.0",
            "_model_name": "HTMLModel",
            "_view_count": null,
            "_view_module": "@jupyter-widgets/controls",
            "_view_module_version": "1.5.0",
            "_view_name": "HTMLView",
            "description": "",
            "description_tooltip": null,
            "layout": "IPY_MODEL_3c5d4eeb526e41e9b964f6ba32dc0997",
            "placeholder": "​",
            "style": "IPY_MODEL_aebe1e5f6f604694bea3df7109b1b16d",
            "value": " 10000/10000 [00:12&lt;00:00, 618.41it/s]"
          }
        },
        "1ea7dbd542db43c2a9cc4791e230fe2d": {
          "model_module": "@jupyter-widgets/base",
          "model_name": "LayoutModel",
          "model_module_version": "1.2.0",
          "state": {
            "_model_module": "@jupyter-widgets/base",
            "_model_module_version": "1.2.0",
            "_model_name": "LayoutModel",
            "_view_count": null,
            "_view_module": "@jupyter-widgets/base",
            "_view_module_version": "1.2.0",
            "_view_name": "LayoutView",
            "align_content": null,
            "align_items": null,
            "align_self": null,
            "border": null,
            "bottom": null,
            "display": null,
            "flex": null,
            "flex_flow": null,
            "grid_area": null,
            "grid_auto_columns": null,
            "grid_auto_flow": null,
            "grid_auto_rows": null,
            "grid_column": null,
            "grid_gap": null,
            "grid_row": null,
            "grid_template_areas": null,
            "grid_template_columns": null,
            "grid_template_rows": null,
            "height": null,
            "justify_content": null,
            "justify_items": null,
            "left": null,
            "margin": null,
            "max_height": null,
            "max_width": null,
            "min_height": null,
            "min_width": null,
            "object_fit": null,
            "object_position": null,
            "order": null,
            "overflow": null,
            "overflow_x": null,
            "overflow_y": null,
            "padding": null,
            "right": null,
            "top": null,
            "visibility": null,
            "width": null
          }
        },
        "ad09c5bdb7c84ac4971091376493a015": {
          "model_module": "@jupyter-widgets/base",
          "model_name": "LayoutModel",
          "model_module_version": "1.2.0",
          "state": {
            "_model_module": "@jupyter-widgets/base",
            "_model_module_version": "1.2.0",
            "_model_name": "LayoutModel",
            "_view_count": null,
            "_view_module": "@jupyter-widgets/base",
            "_view_module_version": "1.2.0",
            "_view_name": "LayoutView",
            "align_content": null,
            "align_items": null,
            "align_self": null,
            "border": null,
            "bottom": null,
            "display": null,
            "flex": null,
            "flex_flow": null,
            "grid_area": null,
            "grid_auto_columns": null,
            "grid_auto_flow": null,
            "grid_auto_rows": null,
            "grid_column": null,
            "grid_gap": null,
            "grid_row": null,
            "grid_template_areas": null,
            "grid_template_columns": null,
            "grid_template_rows": null,
            "height": null,
            "justify_content": null,
            "justify_items": null,
            "left": null,
            "margin": null,
            "max_height": null,
            "max_width": null,
            "min_height": null,
            "min_width": null,
            "object_fit": null,
            "object_position": null,
            "order": null,
            "overflow": null,
            "overflow_x": null,
            "overflow_y": null,
            "padding": null,
            "right": null,
            "top": null,
            "visibility": null,
            "width": null
          }
        },
        "0a1e7266f4e44863add8170393923b98": {
          "model_module": "@jupyter-widgets/controls",
          "model_name": "DescriptionStyleModel",
          "model_module_version": "1.5.0",
          "state": {
            "_model_module": "@jupyter-widgets/controls",
            "_model_module_version": "1.5.0",
            "_model_name": "DescriptionStyleModel",
            "_view_count": null,
            "_view_module": "@jupyter-widgets/base",
            "_view_module_version": "1.2.0",
            "_view_name": "StyleView",
            "description_width": ""
          }
        },
        "4c841b365e8b4ec49e1e7420ac42a68e": {
          "model_module": "@jupyter-widgets/base",
          "model_name": "LayoutModel",
          "model_module_version": "1.2.0",
          "state": {
            "_model_module": "@jupyter-widgets/base",
            "_model_module_version": "1.2.0",
            "_model_name": "LayoutModel",
            "_view_count": null,
            "_view_module": "@jupyter-widgets/base",
            "_view_module_version": "1.2.0",
            "_view_name": "LayoutView",
            "align_content": null,
            "align_items": null,
            "align_self": null,
            "border": null,
            "bottom": null,
            "display": null,
            "flex": null,
            "flex_flow": null,
            "grid_area": null,
            "grid_auto_columns": null,
            "grid_auto_flow": null,
            "grid_auto_rows": null,
            "grid_column": null,
            "grid_gap": null,
            "grid_row": null,
            "grid_template_areas": null,
            "grid_template_columns": null,
            "grid_template_rows": null,
            "height": null,
            "justify_content": null,
            "justify_items": null,
            "left": null,
            "margin": null,
            "max_height": null,
            "max_width": null,
            "min_height": null,
            "min_width": null,
            "object_fit": null,
            "object_position": null,
            "order": null,
            "overflow": null,
            "overflow_x": null,
            "overflow_y": null,
            "padding": null,
            "right": null,
            "top": null,
            "visibility": null,
            "width": null
          }
        },
        "953cae3598044c56b09d1fceabd2e59e": {
          "model_module": "@jupyter-widgets/controls",
          "model_name": "ProgressStyleModel",
          "model_module_version": "1.5.0",
          "state": {
            "_model_module": "@jupyter-widgets/controls",
            "_model_module_version": "1.5.0",
            "_model_name": "ProgressStyleModel",
            "_view_count": null,
            "_view_module": "@jupyter-widgets/base",
            "_view_module_version": "1.2.0",
            "_view_name": "StyleView",
            "bar_color": null,
            "description_width": ""
          }
        },
        "3c5d4eeb526e41e9b964f6ba32dc0997": {
          "model_module": "@jupyter-widgets/base",
          "model_name": "LayoutModel",
          "model_module_version": "1.2.0",
          "state": {
            "_model_module": "@jupyter-widgets/base",
            "_model_module_version": "1.2.0",
            "_model_name": "LayoutModel",
            "_view_count": null,
            "_view_module": "@jupyter-widgets/base",
            "_view_module_version": "1.2.0",
            "_view_name": "LayoutView",
            "align_content": null,
            "align_items": null,
            "align_self": null,
            "border": null,
            "bottom": null,
            "display": null,
            "flex": null,
            "flex_flow": null,
            "grid_area": null,
            "grid_auto_columns": null,
            "grid_auto_flow": null,
            "grid_auto_rows": null,
            "grid_column": null,
            "grid_gap": null,
            "grid_row": null,
            "grid_template_areas": null,
            "grid_template_columns": null,
            "grid_template_rows": null,
            "height": null,
            "justify_content": null,
            "justify_items": null,
            "left": null,
            "margin": null,
            "max_height": null,
            "max_width": null,
            "min_height": null,
            "min_width": null,
            "object_fit": null,
            "object_position": null,
            "order": null,
            "overflow": null,
            "overflow_x": null,
            "overflow_y": null,
            "padding": null,
            "right": null,
            "top": null,
            "visibility": null,
            "width": null
          }
        },
        "aebe1e5f6f604694bea3df7109b1b16d": {
          "model_module": "@jupyter-widgets/controls",
          "model_name": "DescriptionStyleModel",
          "model_module_version": "1.5.0",
          "state": {
            "_model_module": "@jupyter-widgets/controls",
            "_model_module_version": "1.5.0",
            "_model_name": "DescriptionStyleModel",
            "_view_count": null,
            "_view_module": "@jupyter-widgets/base",
            "_view_module_version": "1.2.0",
            "_view_name": "StyleView",
            "description_width": ""
          }
        },
        "4ee7077afe4f43d08d7a6c81c66a6f75": {
          "model_module": "@jupyter-widgets/controls",
          "model_name": "HBoxModel",
          "model_module_version": "1.5.0",
          "state": {
            "_dom_classes": [],
            "_model_module": "@jupyter-widgets/controls",
            "_model_module_version": "1.5.0",
            "_model_name": "HBoxModel",
            "_view_count": null,
            "_view_module": "@jupyter-widgets/controls",
            "_view_module_version": "1.5.0",
            "_view_name": "HBoxView",
            "box_style": "",
            "children": [
              "IPY_MODEL_bb46bf33d2ba4377842e720756eed45d",
              "IPY_MODEL_d133b13a94c94fbe916f94f4bd6addf9",
              "IPY_MODEL_209dce02cf7f4a52b95c1d74f2c550d6"
            ],
            "layout": "IPY_MODEL_e3bc1328aa4d43ada61e96f437999a6a"
          }
        },
        "bb46bf33d2ba4377842e720756eed45d": {
          "model_module": "@jupyter-widgets/controls",
          "model_name": "HTMLModel",
          "model_module_version": "1.5.0",
          "state": {
            "_dom_classes": [],
            "_model_module": "@jupyter-widgets/controls",
            "_model_module_version": "1.5.0",
            "_model_name": "HTMLModel",
            "_view_count": null,
            "_view_module": "@jupyter-widgets/controls",
            "_view_module_version": "1.5.0",
            "_view_name": "HTMLView",
            "description": "",
            "description_tooltip": null,
            "layout": "IPY_MODEL_bf1d9e4e0ac34f6f865942b893734ab1",
            "placeholder": "​",
            "style": "IPY_MODEL_37e3990333024ddaa9163f6aa979d8a7",
            "value": "100%"
          }
        },
        "d133b13a94c94fbe916f94f4bd6addf9": {
          "model_module": "@jupyter-widgets/controls",
          "model_name": "FloatProgressModel",
          "model_module_version": "1.5.0",
          "state": {
            "_dom_classes": [],
            "_model_module": "@jupyter-widgets/controls",
            "_model_module_version": "1.5.0",
            "_model_name": "FloatProgressModel",
            "_view_count": null,
            "_view_module": "@jupyter-widgets/controls",
            "_view_module_version": "1.5.0",
            "_view_name": "ProgressView",
            "bar_style": "success",
            "description": "",
            "description_tooltip": null,
            "layout": "IPY_MODEL_07ea23db87034b1d84cf0a1b3e844268",
            "max": 10000,
            "min": 0,
            "orientation": "horizontal",
            "style": "IPY_MODEL_f84f99ec6d42463a9e0cea727d9d31a3",
            "value": 10000
          }
        },
        "209dce02cf7f4a52b95c1d74f2c550d6": {
          "model_module": "@jupyter-widgets/controls",
          "model_name": "HTMLModel",
          "model_module_version": "1.5.0",
          "state": {
            "_dom_classes": [],
            "_model_module": "@jupyter-widgets/controls",
            "_model_module_version": "1.5.0",
            "_model_name": "HTMLModel",
            "_view_count": null,
            "_view_module": "@jupyter-widgets/controls",
            "_view_module_version": "1.5.0",
            "_view_name": "HTMLView",
            "description": "",
            "description_tooltip": null,
            "layout": "IPY_MODEL_e42dd3b85aaa453a9252fbf4af76f20d",
            "placeholder": "​",
            "style": "IPY_MODEL_4e1e3f0992004ddb94f478da48971554",
            "value": " 10000/10000 [00:18&lt;00:00, 547.46it/s]"
          }
        },
        "e3bc1328aa4d43ada61e96f437999a6a": {
          "model_module": "@jupyter-widgets/base",
          "model_name": "LayoutModel",
          "model_module_version": "1.2.0",
          "state": {
            "_model_module": "@jupyter-widgets/base",
            "_model_module_version": "1.2.0",
            "_model_name": "LayoutModel",
            "_view_count": null,
            "_view_module": "@jupyter-widgets/base",
            "_view_module_version": "1.2.0",
            "_view_name": "LayoutView",
            "align_content": null,
            "align_items": null,
            "align_self": null,
            "border": null,
            "bottom": null,
            "display": null,
            "flex": null,
            "flex_flow": null,
            "grid_area": null,
            "grid_auto_columns": null,
            "grid_auto_flow": null,
            "grid_auto_rows": null,
            "grid_column": null,
            "grid_gap": null,
            "grid_row": null,
            "grid_template_areas": null,
            "grid_template_columns": null,
            "grid_template_rows": null,
            "height": null,
            "justify_content": null,
            "justify_items": null,
            "left": null,
            "margin": null,
            "max_height": null,
            "max_width": null,
            "min_height": null,
            "min_width": null,
            "object_fit": null,
            "object_position": null,
            "order": null,
            "overflow": null,
            "overflow_x": null,
            "overflow_y": null,
            "padding": null,
            "right": null,
            "top": null,
            "visibility": null,
            "width": null
          }
        },
        "bf1d9e4e0ac34f6f865942b893734ab1": {
          "model_module": "@jupyter-widgets/base",
          "model_name": "LayoutModel",
          "model_module_version": "1.2.0",
          "state": {
            "_model_module": "@jupyter-widgets/base",
            "_model_module_version": "1.2.0",
            "_model_name": "LayoutModel",
            "_view_count": null,
            "_view_module": "@jupyter-widgets/base",
            "_view_module_version": "1.2.0",
            "_view_name": "LayoutView",
            "align_content": null,
            "align_items": null,
            "align_self": null,
            "border": null,
            "bottom": null,
            "display": null,
            "flex": null,
            "flex_flow": null,
            "grid_area": null,
            "grid_auto_columns": null,
            "grid_auto_flow": null,
            "grid_auto_rows": null,
            "grid_column": null,
            "grid_gap": null,
            "grid_row": null,
            "grid_template_areas": null,
            "grid_template_columns": null,
            "grid_template_rows": null,
            "height": null,
            "justify_content": null,
            "justify_items": null,
            "left": null,
            "margin": null,
            "max_height": null,
            "max_width": null,
            "min_height": null,
            "min_width": null,
            "object_fit": null,
            "object_position": null,
            "order": null,
            "overflow": null,
            "overflow_x": null,
            "overflow_y": null,
            "padding": null,
            "right": null,
            "top": null,
            "visibility": null,
            "width": null
          }
        },
        "37e3990333024ddaa9163f6aa979d8a7": {
          "model_module": "@jupyter-widgets/controls",
          "model_name": "DescriptionStyleModel",
          "model_module_version": "1.5.0",
          "state": {
            "_model_module": "@jupyter-widgets/controls",
            "_model_module_version": "1.5.0",
            "_model_name": "DescriptionStyleModel",
            "_view_count": null,
            "_view_module": "@jupyter-widgets/base",
            "_view_module_version": "1.2.0",
            "_view_name": "StyleView",
            "description_width": ""
          }
        },
        "07ea23db87034b1d84cf0a1b3e844268": {
          "model_module": "@jupyter-widgets/base",
          "model_name": "LayoutModel",
          "model_module_version": "1.2.0",
          "state": {
            "_model_module": "@jupyter-widgets/base",
            "_model_module_version": "1.2.0",
            "_model_name": "LayoutModel",
            "_view_count": null,
            "_view_module": "@jupyter-widgets/base",
            "_view_module_version": "1.2.0",
            "_view_name": "LayoutView",
            "align_content": null,
            "align_items": null,
            "align_self": null,
            "border": null,
            "bottom": null,
            "display": null,
            "flex": null,
            "flex_flow": null,
            "grid_area": null,
            "grid_auto_columns": null,
            "grid_auto_flow": null,
            "grid_auto_rows": null,
            "grid_column": null,
            "grid_gap": null,
            "grid_row": null,
            "grid_template_areas": null,
            "grid_template_columns": null,
            "grid_template_rows": null,
            "height": null,
            "justify_content": null,
            "justify_items": null,
            "left": null,
            "margin": null,
            "max_height": null,
            "max_width": null,
            "min_height": null,
            "min_width": null,
            "object_fit": null,
            "object_position": null,
            "order": null,
            "overflow": null,
            "overflow_x": null,
            "overflow_y": null,
            "padding": null,
            "right": null,
            "top": null,
            "visibility": null,
            "width": null
          }
        },
        "f84f99ec6d42463a9e0cea727d9d31a3": {
          "model_module": "@jupyter-widgets/controls",
          "model_name": "ProgressStyleModel",
          "model_module_version": "1.5.0",
          "state": {
            "_model_module": "@jupyter-widgets/controls",
            "_model_module_version": "1.5.0",
            "_model_name": "ProgressStyleModel",
            "_view_count": null,
            "_view_module": "@jupyter-widgets/base",
            "_view_module_version": "1.2.0",
            "_view_name": "StyleView",
            "bar_color": null,
            "description_width": ""
          }
        },
        "e42dd3b85aaa453a9252fbf4af76f20d": {
          "model_module": "@jupyter-widgets/base",
          "model_name": "LayoutModel",
          "model_module_version": "1.2.0",
          "state": {
            "_model_module": "@jupyter-widgets/base",
            "_model_module_version": "1.2.0",
            "_model_name": "LayoutModel",
            "_view_count": null,
            "_view_module": "@jupyter-widgets/base",
            "_view_module_version": "1.2.0",
            "_view_name": "LayoutView",
            "align_content": null,
            "align_items": null,
            "align_self": null,
            "border": null,
            "bottom": null,
            "display": null,
            "flex": null,
            "flex_flow": null,
            "grid_area": null,
            "grid_auto_columns": null,
            "grid_auto_flow": null,
            "grid_auto_rows": null,
            "grid_column": null,
            "grid_gap": null,
            "grid_row": null,
            "grid_template_areas": null,
            "grid_template_columns": null,
            "grid_template_rows": null,
            "height": null,
            "justify_content": null,
            "justify_items": null,
            "left": null,
            "margin": null,
            "max_height": null,
            "max_width": null,
            "min_height": null,
            "min_width": null,
            "object_fit": null,
            "object_position": null,
            "order": null,
            "overflow": null,
            "overflow_x": null,
            "overflow_y": null,
            "padding": null,
            "right": null,
            "top": null,
            "visibility": null,
            "width": null
          }
        },
        "4e1e3f0992004ddb94f478da48971554": {
          "model_module": "@jupyter-widgets/controls",
          "model_name": "DescriptionStyleModel",
          "model_module_version": "1.5.0",
          "state": {
            "_model_module": "@jupyter-widgets/controls",
            "_model_module_version": "1.5.0",
            "_model_name": "DescriptionStyleModel",
            "_view_count": null,
            "_view_module": "@jupyter-widgets/base",
            "_view_module_version": "1.2.0",
            "_view_name": "StyleView",
            "description_width": ""
          }
        }
      }
    },
    "accelerator": "GPU"
  },
  "nbformat": 4,
  "nbformat_minor": 5
}